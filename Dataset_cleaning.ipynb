{
 "cells": [
  {
   "cell_type": "code",
   "execution_count": 14,
   "id": "762a7f23-2219-4d12-90b4-9ae2a4c3c0a7",
   "metadata": {},
   "outputs": [],
   "source": [
    "# Import packages\n",
    "import numpy as np\n",
    "import pandas as pd\n",
    "import seaborn as sns\n",
    "import matplotlib.pyplot as plt"
   ]
  },
  {
   "cell_type": "code",
   "execution_count": 15,
   "id": "15a02309-9012-44cf-b5af-779dcbc8d8d8",
   "metadata": {},
   "outputs": [
    {
     "data": {
      "text/html": [
       "<div>\n",
       "<style scoped>\n",
       "    .dataframe tbody tr th:only-of-type {\n",
       "        vertical-align: middle;\n",
       "    }\n",
       "\n",
       "    .dataframe tbody tr th {\n",
       "        vertical-align: top;\n",
       "    }\n",
       "\n",
       "    .dataframe thead th {\n",
       "        text-align: right;\n",
       "    }\n",
       "</style>\n",
       "<table border=\"1\" class=\"dataframe\">\n",
       "  <thead>\n",
       "    <tr style=\"text-align: right;\">\n",
       "      <th></th>\n",
       "      <th>Date</th>\n",
       "      <th>Academy</th>\n",
       "      <th>Name</th>\n",
       "      <th>Psychometrics</th>\n",
       "      <th>Presentation</th>\n",
       "    </tr>\n",
       "  </thead>\n",
       "  <tbody>\n",
       "    <tr>\n",
       "      <th>0</th>\n",
       "      <td>Thursday 1 August 2019</td>\n",
       "      <td>Birmingham Academy</td>\n",
       "      <td>HILARY WILLMORE</td>\n",
       "      <td>51</td>\n",
       "      <td>19</td>\n",
       "    </tr>\n",
       "    <tr>\n",
       "      <th>1</th>\n",
       "      <td>Thursday 1 August 2019</td>\n",
       "      <td>Birmingham Academy</td>\n",
       "      <td>ORLY LORENS</td>\n",
       "      <td>51</td>\n",
       "      <td>19</td>\n",
       "    </tr>\n",
       "    <tr>\n",
       "      <th>2</th>\n",
       "      <td>Thursday 1 August 2019</td>\n",
       "      <td>Birmingham Academy</td>\n",
       "      <td>ALVIE BLEACKLY</td>\n",
       "      <td>55</td>\n",
       "      <td>16</td>\n",
       "    </tr>\n",
       "    <tr>\n",
       "      <th>3</th>\n",
       "      <td>Thursday 1 August 2019</td>\n",
       "      <td>Birmingham Academy</td>\n",
       "      <td>DECK ITZCHAKI</td>\n",
       "      <td>59</td>\n",
       "      <td>21</td>\n",
       "    </tr>\n",
       "    <tr>\n",
       "      <th>4</th>\n",
       "      <td>Thursday 1 August 2019</td>\n",
       "      <td>Birmingham Academy</td>\n",
       "      <td>WILT PENRITT</td>\n",
       "      <td>66</td>\n",
       "      <td>25</td>\n",
       "    </tr>\n",
       "  </tbody>\n",
       "</table>\n",
       "</div>"
      ],
      "text/plain": [
       "                     Date             Academy             Name  Psychometrics  \\\n",
       "0  Thursday 1 August 2019  Birmingham Academy  HILARY WILLMORE             51   \n",
       "1  Thursday 1 August 2019  Birmingham Academy      ORLY LORENS             51   \n",
       "2  Thursday 1 August 2019  Birmingham Academy   ALVIE BLEACKLY             55   \n",
       "3  Thursday 1 August 2019  Birmingham Academy    DECK ITZCHAKI             59   \n",
       "4  Thursday 1 August 2019  Birmingham Academy     WILT PENRITT             66   \n",
       "\n",
       "   Presentation  \n",
       "0            19  \n",
       "1            19  \n",
       "2            16  \n",
       "3            21  \n",
       "4            25  "
      ]
     },
     "execution_count": 15,
     "metadata": {},
     "output_type": "execute_result"
    }
   ],
   "source": [
    "# Import first dataset\n",
    "combined_sparta_day_test_score = pd.read_csv('csv_files/combined_sparta_day_test_score.csv', sep=',', header='infer')\n",
    "combined_sparta_day_test_score.head()"
   ]
  },
  {
   "cell_type": "code",
   "execution_count": 16,
   "id": "13c37d3a-5c78-47c2-b550-68d62577d267",
   "metadata": {},
   "outputs": [
    {
     "name": "stdout",
     "output_type": "stream",
     "text": [
      "<class 'pandas.core.frame.DataFrame'>\n",
      "RangeIndex: 4134 entries, 0 to 4133\n",
      "Data columns (total 5 columns):\n",
      " #   Column         Non-Null Count  Dtype \n",
      "---  ------         --------------  ----- \n",
      " 0   Date           4134 non-null   object\n",
      " 1   Academy        4134 non-null   object\n",
      " 2   Name           4134 non-null   object\n",
      " 3   Psychometrics  4134 non-null   int64 \n",
      " 4   Presentation   4134 non-null   int64 \n",
      "dtypes: int64(2), object(3)\n",
      "memory usage: 161.6+ KB\n"
     ]
    }
   ],
   "source": [
    "combined_sparta_day_test_score.info()"
   ]
  },
  {
   "cell_type": "code",
   "execution_count": 17,
   "id": "619abc57-9f90-4206-a4c9-fd4a6d97d3e7",
   "metadata": {},
   "outputs": [
    {
     "data": {
      "text/html": [
       "<div>\n",
       "<style scoped>\n",
       "    .dataframe tbody tr th:only-of-type {\n",
       "        vertical-align: middle;\n",
       "    }\n",
       "\n",
       "    .dataframe tbody tr th {\n",
       "        vertical-align: top;\n",
       "    }\n",
       "\n",
       "    .dataframe thead th {\n",
       "        text-align: right;\n",
       "    }\n",
       "</style>\n",
       "<table border=\"1\" class=\"dataframe\">\n",
       "  <thead>\n",
       "    <tr style=\"text-align: right;\">\n",
       "      <th></th>\n",
       "      <th>Psychometrics</th>\n",
       "      <th>Presentation</th>\n",
       "    </tr>\n",
       "  </thead>\n",
       "  <tbody>\n",
       "    <tr>\n",
       "      <th>count</th>\n",
       "      <td>4134.000000</td>\n",
       "      <td>4134.000000</td>\n",
       "    </tr>\n",
       "    <tr>\n",
       "      <th>mean</th>\n",
       "      <td>54.827044</td>\n",
       "      <td>20.044025</td>\n",
       "    </tr>\n",
       "    <tr>\n",
       "      <th>std</th>\n",
       "      <td>6.675452</td>\n",
       "      <td>3.453748</td>\n",
       "    </tr>\n",
       "    <tr>\n",
       "      <th>min</th>\n",
       "      <td>32.000000</td>\n",
       "      <td>8.000000</td>\n",
       "    </tr>\n",
       "    <tr>\n",
       "      <th>25%</th>\n",
       "      <td>50.000000</td>\n",
       "      <td>18.000000</td>\n",
       "    </tr>\n",
       "    <tr>\n",
       "      <th>50%</th>\n",
       "      <td>55.000000</td>\n",
       "      <td>20.000000</td>\n",
       "    </tr>\n",
       "    <tr>\n",
       "      <th>75%</th>\n",
       "      <td>59.000000</td>\n",
       "      <td>23.000000</td>\n",
       "    </tr>\n",
       "    <tr>\n",
       "      <th>max</th>\n",
       "      <td>79.000000</td>\n",
       "      <td>30.000000</td>\n",
       "    </tr>\n",
       "  </tbody>\n",
       "</table>\n",
       "</div>"
      ],
      "text/plain": [
       "       Psychometrics  Presentation\n",
       "count    4134.000000   4134.000000\n",
       "mean       54.827044     20.044025\n",
       "std         6.675452      3.453748\n",
       "min        32.000000      8.000000\n",
       "25%        50.000000     18.000000\n",
       "50%        55.000000     20.000000\n",
       "75%        59.000000     23.000000\n",
       "max        79.000000     30.000000"
      ]
     },
     "execution_count": 17,
     "metadata": {},
     "output_type": "execute_result"
    }
   ],
   "source": [
    "combined_sparta_day_test_score.describe()"
   ]
  },
  {
   "cell_type": "code",
   "execution_count": 18,
   "id": "16790827-59ea-4810-8424-17f589a80c29",
   "metadata": {},
   "outputs": [
    {
     "data": {
      "text/html": [
       "<div>\n",
       "<style scoped>\n",
       "    .dataframe tbody tr th:only-of-type {\n",
       "        vertical-align: middle;\n",
       "    }\n",
       "\n",
       "    .dataframe tbody tr th {\n",
       "        vertical-align: top;\n",
       "    }\n",
       "\n",
       "    .dataframe thead th {\n",
       "        text-align: right;\n",
       "    }\n",
       "</style>\n",
       "<table border=\"1\" class=\"dataframe\">\n",
       "  <thead>\n",
       "    <tr style=\"text-align: right;\">\n",
       "      <th></th>\n",
       "      <th>Date</th>\n",
       "      <th>Academy</th>\n",
       "      <th>Name</th>\n",
       "      <th>Psychometrics</th>\n",
       "      <th>Presentation</th>\n",
       "    </tr>\n",
       "  </thead>\n",
       "  <tbody>\n",
       "    <tr>\n",
       "      <th>0</th>\n",
       "      <td>False</td>\n",
       "      <td>False</td>\n",
       "      <td>False</td>\n",
       "      <td>False</td>\n",
       "      <td>False</td>\n",
       "    </tr>\n",
       "    <tr>\n",
       "      <th>1</th>\n",
       "      <td>False</td>\n",
       "      <td>False</td>\n",
       "      <td>False</td>\n",
       "      <td>False</td>\n",
       "      <td>False</td>\n",
       "    </tr>\n",
       "    <tr>\n",
       "      <th>2</th>\n",
       "      <td>False</td>\n",
       "      <td>False</td>\n",
       "      <td>False</td>\n",
       "      <td>False</td>\n",
       "      <td>False</td>\n",
       "    </tr>\n",
       "    <tr>\n",
       "      <th>3</th>\n",
       "      <td>False</td>\n",
       "      <td>False</td>\n",
       "      <td>False</td>\n",
       "      <td>False</td>\n",
       "      <td>False</td>\n",
       "    </tr>\n",
       "    <tr>\n",
       "      <th>4</th>\n",
       "      <td>False</td>\n",
       "      <td>False</td>\n",
       "      <td>False</td>\n",
       "      <td>False</td>\n",
       "      <td>False</td>\n",
       "    </tr>\n",
       "    <tr>\n",
       "      <th>...</th>\n",
       "      <td>...</td>\n",
       "      <td>...</td>\n",
       "      <td>...</td>\n",
       "      <td>...</td>\n",
       "      <td>...</td>\n",
       "    </tr>\n",
       "    <tr>\n",
       "      <th>4129</th>\n",
       "      <td>False</td>\n",
       "      <td>False</td>\n",
       "      <td>False</td>\n",
       "      <td>False</td>\n",
       "      <td>False</td>\n",
       "    </tr>\n",
       "    <tr>\n",
       "      <th>4130</th>\n",
       "      <td>False</td>\n",
       "      <td>False</td>\n",
       "      <td>False</td>\n",
       "      <td>False</td>\n",
       "      <td>False</td>\n",
       "    </tr>\n",
       "    <tr>\n",
       "      <th>4131</th>\n",
       "      <td>False</td>\n",
       "      <td>False</td>\n",
       "      <td>False</td>\n",
       "      <td>False</td>\n",
       "      <td>False</td>\n",
       "    </tr>\n",
       "    <tr>\n",
       "      <th>4132</th>\n",
       "      <td>False</td>\n",
       "      <td>False</td>\n",
       "      <td>False</td>\n",
       "      <td>False</td>\n",
       "      <td>False</td>\n",
       "    </tr>\n",
       "    <tr>\n",
       "      <th>4133</th>\n",
       "      <td>False</td>\n",
       "      <td>False</td>\n",
       "      <td>False</td>\n",
       "      <td>False</td>\n",
       "      <td>False</td>\n",
       "    </tr>\n",
       "  </tbody>\n",
       "</table>\n",
       "<p>4134 rows × 5 columns</p>\n",
       "</div>"
      ],
      "text/plain": [
       "       Date  Academy   Name  Psychometrics  Presentation\n",
       "0     False    False  False          False         False\n",
       "1     False    False  False          False         False\n",
       "2     False    False  False          False         False\n",
       "3     False    False  False          False         False\n",
       "4     False    False  False          False         False\n",
       "...     ...      ...    ...            ...           ...\n",
       "4129  False    False  False          False         False\n",
       "4130  False    False  False          False         False\n",
       "4131  False    False  False          False         False\n",
       "4132  False    False  False          False         False\n",
       "4133  False    False  False          False         False\n",
       "\n",
       "[4134 rows x 5 columns]"
      ]
     },
     "execution_count": 18,
     "metadata": {},
     "output_type": "execute_result"
    }
   ],
   "source": [
    "combined_sparta_day_test_score.isnull()"
   ]
  },
  {
   "cell_type": "code",
   "execution_count": 19,
   "id": "ecbef8f2-4bab-4a3f-99d8-19641734c2e8",
   "metadata": {},
   "outputs": [
    {
     "data": {
      "text/plain": [
       "0       False\n",
       "1       False\n",
       "2       False\n",
       "3       False\n",
       "4       False\n",
       "        ...  \n",
       "4129    False\n",
       "4130    False\n",
       "4131    False\n",
       "4132    False\n",
       "4133    False\n",
       "Length: 4134, dtype: bool"
      ]
     },
     "execution_count": 19,
     "metadata": {},
     "output_type": "execute_result"
    }
   ],
   "source": [
    "combined_sparta_day_test_score.duplicated()"
   ]
  },
  {
   "cell_type": "code",
   "execution_count": 20,
   "id": "1d68bd9a-4361-489d-bd29-4d738294e4ac",
   "metadata": {},
   "outputs": [
    {
     "data": {
      "text/plain": [
       "Date             object\n",
       "Academy          object\n",
       "Name             object\n",
       "Psychometrics     int64\n",
       "Presentation      int64\n",
       "dtype: object"
      ]
     },
     "execution_count": 20,
     "metadata": {},
     "output_type": "execute_result"
    }
   ],
   "source": [
    "combined_sparta_day_test_score.dtypes"
   ]
  },
  {
   "cell_type": "code",
   "execution_count": 21,
   "id": "08128b13-5158-4dce-9fd3-7a4661aa07c0",
   "metadata": {},
   "outputs": [
    {
     "data": {
      "text/plain": [
       "dtype('O')"
      ]
     },
     "execution_count": 21,
     "metadata": {},
     "output_type": "execute_result"
    }
   ],
   "source": [
    "combined_sparta_day_test_score.Academy.dtype"
   ]
  },
  {
   "cell_type": "code",
   "execution_count": 22,
   "id": "e3b24b2e-1a14-4bab-a9a7-3b1a1412b1f1",
   "metadata": {},
   "outputs": [],
   "source": [
    "combined_sparta_day_test_score[\"Name\"] = combined_sparta_day_test_score[\"Name\"].str.title()"
   ]
  },
  {
   "cell_type": "code",
   "execution_count": 23,
   "id": "731504f3-e81d-4a17-bab6-55057a051a51",
   "metadata": {},
   "outputs": [
    {
     "data": {
      "text/html": [
       "<div>\n",
       "<style scoped>\n",
       "    .dataframe tbody tr th:only-of-type {\n",
       "        vertical-align: middle;\n",
       "    }\n",
       "\n",
       "    .dataframe tbody tr th {\n",
       "        vertical-align: top;\n",
       "    }\n",
       "\n",
       "    .dataframe thead th {\n",
       "        text-align: right;\n",
       "    }\n",
       "</style>\n",
       "<table border=\"1\" class=\"dataframe\">\n",
       "  <thead>\n",
       "    <tr style=\"text-align: right;\">\n",
       "      <th></th>\n",
       "      <th>Date</th>\n",
       "      <th>Academy</th>\n",
       "      <th>Name</th>\n",
       "      <th>Psychometrics</th>\n",
       "      <th>Presentation</th>\n",
       "    </tr>\n",
       "  </thead>\n",
       "  <tbody>\n",
       "    <tr>\n",
       "      <th>0</th>\n",
       "      <td>Thursday 1 August 2019</td>\n",
       "      <td>Birmingham Academy</td>\n",
       "      <td>Hilary Willmore</td>\n",
       "      <td>51</td>\n",
       "      <td>19</td>\n",
       "    </tr>\n",
       "    <tr>\n",
       "      <th>1</th>\n",
       "      <td>Thursday 1 August 2019</td>\n",
       "      <td>Birmingham Academy</td>\n",
       "      <td>Orly Lorens</td>\n",
       "      <td>51</td>\n",
       "      <td>19</td>\n",
       "    </tr>\n",
       "    <tr>\n",
       "      <th>2</th>\n",
       "      <td>Thursday 1 August 2019</td>\n",
       "      <td>Birmingham Academy</td>\n",
       "      <td>Alvie Bleackly</td>\n",
       "      <td>55</td>\n",
       "      <td>16</td>\n",
       "    </tr>\n",
       "    <tr>\n",
       "      <th>3</th>\n",
       "      <td>Thursday 1 August 2019</td>\n",
       "      <td>Birmingham Academy</td>\n",
       "      <td>Deck Itzchaki</td>\n",
       "      <td>59</td>\n",
       "      <td>21</td>\n",
       "    </tr>\n",
       "    <tr>\n",
       "      <th>4</th>\n",
       "      <td>Thursday 1 August 2019</td>\n",
       "      <td>Birmingham Academy</td>\n",
       "      <td>Wilt Penritt</td>\n",
       "      <td>66</td>\n",
       "      <td>25</td>\n",
       "    </tr>\n",
       "  </tbody>\n",
       "</table>\n",
       "</div>"
      ],
      "text/plain": [
       "                     Date             Academy             Name  Psychometrics  \\\n",
       "0  Thursday 1 August 2019  Birmingham Academy  Hilary Willmore             51   \n",
       "1  Thursday 1 August 2019  Birmingham Academy      Orly Lorens             51   \n",
       "2  Thursday 1 August 2019  Birmingham Academy   Alvie Bleackly             55   \n",
       "3  Thursday 1 August 2019  Birmingham Academy    Deck Itzchaki             59   \n",
       "4  Thursday 1 August 2019  Birmingham Academy     Wilt Penritt             66   \n",
       "\n",
       "   Presentation  \n",
       "0            19  \n",
       "1            19  \n",
       "2            16  \n",
       "3            21  \n",
       "4            25  "
      ]
     },
     "execution_count": 23,
     "metadata": {},
     "output_type": "execute_result"
    }
   ],
   "source": [
    "combined_sparta_day_test_score.head()"
   ]
  },
  {
   "cell_type": "code",
   "execution_count": 24,
   "id": "fa83ede8-a3ab-4bc5-bd77-5da5d9041fd3",
   "metadata": {},
   "outputs": [],
   "source": [
    "combined_sparta_day_test_score['Date'] = pd.to_datetime(\n",
    "    combined_sparta_day_test_score['Date'], \n",
    "    format=\"%A %d %B %Y\"\n",
    ")"
   ]
  },
  {
   "cell_type": "code",
   "execution_count": 25,
   "id": "930c8439-631f-4c03-bab5-57dba4eca224",
   "metadata": {},
   "outputs": [
    {
     "data": {
      "text/plain": [
       "Date             datetime64[ns]\n",
       "Academy                  object\n",
       "Name                     object\n",
       "Psychometrics             int64\n",
       "Presentation              int64\n",
       "dtype: object"
      ]
     },
     "execution_count": 25,
     "metadata": {},
     "output_type": "execute_result"
    }
   ],
   "source": [
    "combined_sparta_day_test_score.dtypes"
   ]
  },
  {
   "cell_type": "code",
   "execution_count": 27,
   "id": "c26d0f7a-235a-4c3f-8e9a-af3c032f0f7f",
   "metadata": {},
   "outputs": [
    {
     "data": {
      "text/html": [
       "<div>\n",
       "<style scoped>\n",
       "    .dataframe tbody tr th:only-of-type {\n",
       "        vertical-align: middle;\n",
       "    }\n",
       "\n",
       "    .dataframe tbody tr th {\n",
       "        vertical-align: top;\n",
       "    }\n",
       "\n",
       "    .dataframe thead th {\n",
       "        text-align: right;\n",
       "    }\n",
       "</style>\n",
       "<table border=\"1\" class=\"dataframe\">\n",
       "  <thead>\n",
       "    <tr style=\"text-align: right;\">\n",
       "      <th></th>\n",
       "      <th>Date</th>\n",
       "      <th>Academy</th>\n",
       "      <th>Name</th>\n",
       "      <th>Psychometrics</th>\n",
       "      <th>Presentation</th>\n",
       "    </tr>\n",
       "  </thead>\n",
       "  <tbody>\n",
       "    <tr>\n",
       "      <th>0</th>\n",
       "      <td>2019-08-01</td>\n",
       "      <td>Birmingham Academy</td>\n",
       "      <td>Hilary Willmore</td>\n",
       "      <td>51</td>\n",
       "      <td>19</td>\n",
       "    </tr>\n",
       "    <tr>\n",
       "      <th>1</th>\n",
       "      <td>2019-08-01</td>\n",
       "      <td>Birmingham Academy</td>\n",
       "      <td>Orly Lorens</td>\n",
       "      <td>51</td>\n",
       "      <td>19</td>\n",
       "    </tr>\n",
       "    <tr>\n",
       "      <th>2</th>\n",
       "      <td>2019-08-01</td>\n",
       "      <td>Birmingham Academy</td>\n",
       "      <td>Alvie Bleackly</td>\n",
       "      <td>55</td>\n",
       "      <td>16</td>\n",
       "    </tr>\n",
       "    <tr>\n",
       "      <th>3</th>\n",
       "      <td>2019-08-01</td>\n",
       "      <td>Birmingham Academy</td>\n",
       "      <td>Deck Itzchaki</td>\n",
       "      <td>59</td>\n",
       "      <td>21</td>\n",
       "    </tr>\n",
       "    <tr>\n",
       "      <th>4</th>\n",
       "      <td>2019-08-01</td>\n",
       "      <td>Birmingham Academy</td>\n",
       "      <td>Wilt Penritt</td>\n",
       "      <td>66</td>\n",
       "      <td>25</td>\n",
       "    </tr>\n",
       "  </tbody>\n",
       "</table>\n",
       "</div>"
      ],
      "text/plain": [
       "        Date             Academy             Name  Psychometrics  Presentation\n",
       "0 2019-08-01  Birmingham Academy  Hilary Willmore             51            19\n",
       "1 2019-08-01  Birmingham Academy      Orly Lorens             51            19\n",
       "2 2019-08-01  Birmingham Academy   Alvie Bleackly             55            16\n",
       "3 2019-08-01  Birmingham Academy    Deck Itzchaki             59            21\n",
       "4 2019-08-01  Birmingham Academy     Wilt Penritt             66            25"
      ]
     },
     "execution_count": 27,
     "metadata": {},
     "output_type": "execute_result"
    }
   ],
   "source": [
    "combined_sparta_day_test_score.head()"
   ]
  },
  {
   "cell_type": "code",
   "execution_count": 30,
   "id": "af2eca91-147e-45ea-ab7a-c4ca8545931f",
   "metadata": {},
   "outputs": [
    {
     "name": "stdout",
     "output_type": "stream",
     "text": [
      "0         Thursday 01 August 2019\n",
      "1         Thursday 01 August 2019\n",
      "2         Thursday 01 August 2019\n",
      "3         Thursday 01 August 2019\n",
      "4         Thursday 01 August 2019\n",
      "                  ...            \n",
      "4129    Wednesday 09 October 2019\n",
      "4130    Wednesday 09 October 2019\n",
      "4131    Wednesday 09 October 2019\n",
      "4132    Wednesday 09 October 2019\n",
      "4133    Wednesday 09 October 2019\n",
      "Name: Date, Length: 4134, dtype: object\n"
     ]
    }
   ],
   "source": [
    "print(combined_sparta_day_test_score['Date'].dt.strftime(\"%A %d %B %Y\"))"
   ]
  },
  {
   "cell_type": "code",
   "execution_count": 32,
   "id": "b17e1df5-df15-4977-9418-b808da5879dc",
   "metadata": {},
   "outputs": [],
   "source": [
    "combined_sparta_day_test_score.to_csv('combined_sparta_day_test_score.csv')"
   ]
  },
  {
   "cell_type": "code",
   "execution_count": null,
   "id": "f96ac573-322b-4610-ad57-26b30fa0e8d1",
   "metadata": {},
   "outputs": [],
   "source": []
  }
 ],
 "metadata": {
  "kernelspec": {
   "display_name": "Python 3 (ipykernel)",
   "language": "python",
   "name": "python3"
  },
  "language_info": {
   "codemirror_mode": {
    "name": "ipython",
    "version": 3
   },
   "file_extension": ".py",
   "mimetype": "text/x-python",
   "name": "python",
   "nbconvert_exporter": "python",
   "pygments_lexer": "ipython3",
   "version": "3.13.5"
  }
 },
 "nbformat": 4,
 "nbformat_minor": 5
}
