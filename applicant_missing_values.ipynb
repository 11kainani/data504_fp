{
 "cells": [
  {
   "cell_type": "code",
   "execution_count": 119,
   "id": "5a154ace-876b-4d08-87fc-13ed11163082",
   "metadata": {},
   "outputs": [],
   "source": [
    "import boto3\n",
    "import pandas as pd\n",
    "from io import StringIO"
   ]
  },
  {
   "cell_type": "code",
   "execution_count": 120,
   "id": "eb650365-2d4f-4fbc-8eea-e6393ab712ef",
   "metadata": {},
   "outputs": [],
   "source": [
    "# Import dataset\n",
    "s3_client = boto3.client('s3')\n",
    "\n",
    "# Load data\n",
    "# Applicant details\n",
    "response_1 = s3_client.get_object(Bucket='data-504-final-project-v2', Key='Cleaned/cleaned_applicants_details.csv')\n",
    "content_1 = response_1['Body'].read().decode('utf-8')\n",
    "applicants = pd.read_csv(StringIO(content_1))\n",
    "\n",
    "# Sparta day\n",
    "response_2 = s3_client.get_object(Bucket='data-504-final-project-v2', Key='Cleaned/combined_sparta_day_test_score.csv')\n",
    "content_2 = response_2['Body'].read().decode('utf-8')\n",
    "sparta_day = pd.read_csv(StringIO(content_2))\n",
    "\n",
    "# Decision scores\n",
    "response_3 = s3_client.get_object(Bucket='data-504-final-project-v2', Key='Cleaned/cleaned_talent_decision_scores.csv')\n",
    "content_3 = response_3['Body'].read().decode('utf-8')\n",
    "decision_scores = pd.read_csv(StringIO(content_3))\n",
    "\n",
    "\n",
    "# Academy: Business\n",
    "response_4 = s3_client.get_object(Bucket='data-504-final-project-v2', Key='Academy_Combined/Business_combined.csv')\n",
    "content_4 = response_4['Body'].read().decode('utf-8')\n",
    "business = pd.read_csv(StringIO(content_4))\n",
    "\n",
    "# Academy: Data\n",
    "# Academy: Business\n",
    "response_5 = s3_client.get_object(Bucket='data-504-final-project-v2', Key='Academy_Combined/Data_combined.csv')\n",
    "content_5 = response_5['Body'].read().decode('utf-8')\n",
    "data = pd.read_csv(StringIO(content_5))\n",
    "\n",
    "# Academy: Engineering \n",
    "# Academy: Business\n",
    "response_6 = s3_client.get_object(Bucket='data-504-final-project-v2', Key='Academy_Combined/Engineering_combined.csv')\n",
    "content_6 = response_6['Body'].read().decode('utf-8')\n",
    "engineering = pd.read_csv(StringIO(content_6))\n",
    "\n"
   ]
  },
  {
   "cell_type": "code",
   "execution_count": 121,
   "id": "0198cf3f-042c-4d51-baa7-4f84808bdb98",
   "metadata": {},
   "outputs": [
    {
     "data": {
      "text/html": [
       "<div>\n",
       "<style scoped>\n",
       "    .dataframe tbody tr th:only-of-type {\n",
       "        vertical-align: middle;\n",
       "    }\n",
       "\n",
       "    .dataframe tbody tr th {\n",
       "        vertical-align: top;\n",
       "    }\n",
       "\n",
       "    .dataframe thead th {\n",
       "        text-align: right;\n",
       "    }\n",
       "</style>\n",
       "<table border=\"1\" class=\"dataframe\">\n",
       "  <thead>\n",
       "    <tr style=\"text-align: right;\">\n",
       "      <th></th>\n",
       "      <th>id</th>\n",
       "      <th>name</th>\n",
       "      <th>gender</th>\n",
       "      <th>dob</th>\n",
       "      <th>email</th>\n",
       "      <th>city</th>\n",
       "      <th>address</th>\n",
       "      <th>postcode</th>\n",
       "      <th>phone_number</th>\n",
       "      <th>uni</th>\n",
       "      <th>degree</th>\n",
       "      <th>invited_date</th>\n",
       "      <th>invited_by</th>\n",
       "    </tr>\n",
       "  </thead>\n",
       "  <tbody>\n",
       "    <tr>\n",
       "      <th>0</th>\n",
       "      <td>1</td>\n",
       "      <td>Esme Trusslove</td>\n",
       "      <td>Female</td>\n",
       "      <td>1994-08-04</td>\n",
       "      <td>etrusslove0@google.es</td>\n",
       "      <td>Swindon</td>\n",
       "      <td>22056 Lerdahl Avenue</td>\n",
       "      <td>SN1</td>\n",
       "      <td>4.429578e+11</td>\n",
       "      <td>Saint George's Hospital Medical School, Univer...</td>\n",
       "      <td>2:1</td>\n",
       "      <td>2019-04-10</td>\n",
       "      <td>Bruno Bellbrook</td>\n",
       "    </tr>\n",
       "    <tr>\n",
       "      <th>1</th>\n",
       "      <td>2</td>\n",
       "      <td>Matthaeus Audas</td>\n",
       "      <td>Male</td>\n",
       "      <td>NaN</td>\n",
       "      <td>maudas1@mapquest.com</td>\n",
       "      <td>Charlton</td>\n",
       "      <td>263 Nelson Trail</td>\n",
       "      <td>OX12</td>\n",
       "      <td>4.495773e+11</td>\n",
       "      <td>Keele University</td>\n",
       "      <td>2:1</td>\n",
       "      <td>2019-04-30</td>\n",
       "      <td>Doris Bellasis</td>\n",
       "    </tr>\n",
       "    <tr>\n",
       "      <th>2</th>\n",
       "      <td>3</td>\n",
       "      <td>Cherey Tollfree</td>\n",
       "      <td>Female</td>\n",
       "      <td>1992-12-08</td>\n",
       "      <td>ctollfree2@netvibes.com</td>\n",
       "      <td>Weston</td>\n",
       "      <td>69 Coleman Court</td>\n",
       "      <td>GU32</td>\n",
       "      <td>4.458875e+11</td>\n",
       "      <td>King's College London, University of London</td>\n",
       "      <td>2:1</td>\n",
       "      <td>2019-04-25</td>\n",
       "      <td>Gismo Tilling</td>\n",
       "    </tr>\n",
       "    <tr>\n",
       "      <th>3</th>\n",
       "      <td>4</td>\n",
       "      <td>Eryn Speers</td>\n",
       "      <td>Female</td>\n",
       "      <td>NaN</td>\n",
       "      <td>espeers3@shinystat.com</td>\n",
       "      <td>Sutton</td>\n",
       "      <td>0166 Daystar Drive</td>\n",
       "      <td>CT15</td>\n",
       "      <td>4.414879e+11</td>\n",
       "      <td>University of Edinburgh</td>\n",
       "      <td>2:1</td>\n",
       "      <td>NaN</td>\n",
       "      <td>NaN</td>\n",
       "    </tr>\n",
       "    <tr>\n",
       "      <th>4</th>\n",
       "      <td>5</td>\n",
       "      <td>Theadora Berkelay</td>\n",
       "      <td>Female</td>\n",
       "      <td>1995-11-03</td>\n",
       "      <td>tberkelay4@godaddy.com</td>\n",
       "      <td>Upton</td>\n",
       "      <td>6 Mandrake Crossing</td>\n",
       "      <td>WF9</td>\n",
       "      <td>4.484147e+11</td>\n",
       "      <td>University of Leicester</td>\n",
       "      <td>2:1</td>\n",
       "      <td>2019-04-02</td>\n",
       "      <td>Stacey Broad</td>\n",
       "    </tr>\n",
       "  </tbody>\n",
       "</table>\n",
       "</div>"
      ],
      "text/plain": [
       "   id               name  gender         dob                    email  \\\n",
       "0   1     Esme Trusslove  Female  1994-08-04    etrusslove0@google.es   \n",
       "1   2    Matthaeus Audas    Male         NaN     maudas1@mapquest.com   \n",
       "2   3    Cherey Tollfree  Female  1992-12-08  ctollfree2@netvibes.com   \n",
       "3   4        Eryn Speers  Female         NaN   espeers3@shinystat.com   \n",
       "4   5  Theadora Berkelay  Female  1995-11-03   tberkelay4@godaddy.com   \n",
       "\n",
       "       city               address postcode  phone_number  \\\n",
       "0   Swindon  22056 Lerdahl Avenue      SN1  4.429578e+11   \n",
       "1  Charlton      263 Nelson Trail     OX12  4.495773e+11   \n",
       "2    Weston      69 Coleman Court     GU32  4.458875e+11   \n",
       "3    Sutton    0166 Daystar Drive     CT15  4.414879e+11   \n",
       "4     Upton   6 Mandrake Crossing      WF9  4.484147e+11   \n",
       "\n",
       "                                                 uni degree invited_date  \\\n",
       "0  Saint George's Hospital Medical School, Univer...    2:1   2019-04-10   \n",
       "1                                   Keele University    2:1   2019-04-30   \n",
       "2        King's College London, University of London    2:1   2019-04-25   \n",
       "3                            University of Edinburgh    2:1          NaN   \n",
       "4                            University of Leicester    2:1   2019-04-02   \n",
       "\n",
       "        invited_by  \n",
       "0  Bruno Bellbrook  \n",
       "1   Doris Bellasis  \n",
       "2    Gismo Tilling  \n",
       "3              NaN  \n",
       "4     Stacey Broad  "
      ]
     },
     "execution_count": 121,
     "metadata": {},
     "output_type": "execute_result"
    }
   ],
   "source": [
    "applicants.head()"
   ]
  },
  {
   "cell_type": "markdown",
   "id": "af0ae3e9-8707-4ff4-b782-6719609594d3",
   "metadata": {},
   "source": [
    "### Dataframes - size"
   ]
  },
  {
   "cell_type": "code",
   "execution_count": 122,
   "id": "0c954c2f-2113-425a-8423-4b7d5638a56d",
   "metadata": {},
   "outputs": [
    {
     "data": {
      "text/plain": [
       "4691"
      ]
     },
     "execution_count": 122,
     "metadata": {},
     "output_type": "execute_result"
    }
   ],
   "source": [
    "len(applicants)"
   ]
  },
  {
   "cell_type": "code",
   "execution_count": 123,
   "id": "ac0d19de-80f4-48be-a914-3a82df83c5e8",
   "metadata": {},
   "outputs": [
    {
     "data": {
      "text/plain": [
       "4134"
      ]
     },
     "execution_count": 123,
     "metadata": {},
     "output_type": "execute_result"
    }
   ],
   "source": [
    "len(sparta_day)"
   ]
  },
  {
   "cell_type": "code",
   "execution_count": 124,
   "id": "ba372b3d-f1ac-46bc-bf21-657cab4b7fe3",
   "metadata": {},
   "outputs": [
    {
     "data": {
      "text/plain": [
       "989"
      ]
     },
     "execution_count": 124,
     "metadata": {},
     "output_type": "execute_result"
    }
   ],
   "source": [
    "len(decision_scores)"
   ]
  },
  {
   "cell_type": "code",
   "execution_count": 125,
   "id": "25e47d88-0cb5-44df-bd95-2137737437ef",
   "metadata": {},
   "outputs": [
    {
     "data": {
      "text/plain": [
       "397"
      ]
     },
     "execution_count": 125,
     "metadata": {},
     "output_type": "execute_result"
    }
   ],
   "source": [
    "len(business)+len(data)+len(engineering)"
   ]
  },
  {
   "cell_type": "code",
   "execution_count": 126,
   "id": "3e849a56-2b40-4251-8ab3-d325df60274e",
   "metadata": {},
   "outputs": [
    {
     "data": {
      "text/plain": [
       "True"
      ]
     },
     "execution_count": 126,
     "metadata": {},
     "output_type": "execute_result"
    }
   ],
   "source": [
    "# Combine all academy names\n",
    "academy = pd.concat([business[['name']], data[['name']], engineering[['name']]], ignore_index=True)\n",
    "\n",
    "# Check \n",
    "len(academy) == len(business)+len(data)+len(engineering)"
   ]
  },
  {
   "cell_type": "code",
   "execution_count": 127,
   "id": "c9af963f-637f-4f5c-9e75-f176c6b40de3",
   "metadata": {},
   "outputs": [],
   "source": [
    "# Clean name fields for matching\n",
    "applicants['name_clean'] = applicants['name'].str.strip().str.lower()\n",
    "academy['name_clean'] = academy['name'].str.strip().str.lower()"
   ]
  },
  {
   "cell_type": "code",
   "execution_count": 128,
   "id": "62dcd934-dc8e-46c8-bb4a-4541f84119e1",
   "metadata": {},
   "outputs": [],
   "source": [
    "# Merge academy students with applicant info\n",
    "merged = academy.merge(applicants, on='name_clean', how='left')"
   ]
  },
  {
   "cell_type": "code",
   "execution_count": 129,
   "id": "ba0ce366-64ec-4f1b-bae1-cbb89bf73170",
   "metadata": {},
   "outputs": [
    {
     "data": {
      "text/html": [
       "<div>\n",
       "<style scoped>\n",
       "    .dataframe tbody tr th:only-of-type {\n",
       "        vertical-align: middle;\n",
       "    }\n",
       "\n",
       "    .dataframe tbody tr th {\n",
       "        vertical-align: top;\n",
       "    }\n",
       "\n",
       "    .dataframe thead th {\n",
       "        text-align: right;\n",
       "    }\n",
       "</style>\n",
       "<table border=\"1\" class=\"dataframe\">\n",
       "  <thead>\n",
       "    <tr style=\"text-align: right;\">\n",
       "      <th></th>\n",
       "      <th>name_x</th>\n",
       "      <th>name_clean</th>\n",
       "      <th>id</th>\n",
       "      <th>name_y</th>\n",
       "      <th>gender</th>\n",
       "      <th>dob</th>\n",
       "      <th>email</th>\n",
       "      <th>city</th>\n",
       "      <th>address</th>\n",
       "      <th>postcode</th>\n",
       "      <th>phone_number</th>\n",
       "      <th>uni</th>\n",
       "      <th>degree</th>\n",
       "      <th>invited_date</th>\n",
       "      <th>invited_by</th>\n",
       "    </tr>\n",
       "  </thead>\n",
       "  <tbody>\n",
       "    <tr>\n",
       "      <th>0</th>\n",
       "      <td>Quintus Penella</td>\n",
       "      <td>quintus penella</td>\n",
       "      <td>1769</td>\n",
       "      <td>Quintus Penella</td>\n",
       "      <td>Male</td>\n",
       "      <td>1992-11-11</td>\n",
       "      <td>qpenella7r@tripod.com</td>\n",
       "      <td>Whitchurch</td>\n",
       "      <td>8132 Grover Hill</td>\n",
       "      <td>BS14</td>\n",
       "      <td>4.414412e+11</td>\n",
       "      <td>NaN</td>\n",
       "      <td>NaN</td>\n",
       "      <td>2019-01-15</td>\n",
       "      <td>Bruno Bellbrook</td>\n",
       "    </tr>\n",
       "    <tr>\n",
       "      <th>1</th>\n",
       "      <td>Simon Murrey</td>\n",
       "      <td>simon murrey</td>\n",
       "      <td>1696</td>\n",
       "      <td>Simon Murrey</td>\n",
       "      <td>Male</td>\n",
       "      <td>1999-04-01</td>\n",
       "      <td>smurrey5q@pen.io</td>\n",
       "      <td>London</td>\n",
       "      <td>516 American Ash Drive</td>\n",
       "      <td>WC2H</td>\n",
       "      <td>NaN</td>\n",
       "      <td>University of Portsmouth</td>\n",
       "      <td>2:1</td>\n",
       "      <td>2019-01-16</td>\n",
       "      <td>Rupert Ripple</td>\n",
       "    </tr>\n",
       "    <tr>\n",
       "      <th>2</th>\n",
       "      <td>Gustaf Lude</td>\n",
       "      <td>gustaf lude</td>\n",
       "      <td>1663</td>\n",
       "      <td>Gustaf Lude</td>\n",
       "      <td>Male</td>\n",
       "      <td>1991-04-25</td>\n",
       "      <td>glude4t@harvard.edu</td>\n",
       "      <td>Newtown</td>\n",
       "      <td>392 Florence Pass</td>\n",
       "      <td>RG20</td>\n",
       "      <td>NaN</td>\n",
       "      <td>University of Bradford</td>\n",
       "      <td>3</td>\n",
       "      <td>2019-01-16</td>\n",
       "      <td>Rupert Ripple</td>\n",
       "    </tr>\n",
       "    <tr>\n",
       "      <th>3</th>\n",
       "      <td>Yolanda Fosse</td>\n",
       "      <td>yolanda fosse</td>\n",
       "      <td>1573</td>\n",
       "      <td>Yolanda Fosse</td>\n",
       "      <td>Female</td>\n",
       "      <td>1999-11-15</td>\n",
       "      <td>yfosse2b@over-blog.com</td>\n",
       "      <td>London</td>\n",
       "      <td>9683 Jenifer Street</td>\n",
       "      <td>EC1V</td>\n",
       "      <td>4.453733e+11</td>\n",
       "      <td>University of Wales</td>\n",
       "      <td>1</td>\n",
       "      <td>2019-01-16</td>\n",
       "      <td>Bruno Belbrook</td>\n",
       "    </tr>\n",
       "    <tr>\n",
       "      <th>4</th>\n",
       "      <td>Lynnett Swin</td>\n",
       "      <td>lynnett swin</td>\n",
       "      <td>1661</td>\n",
       "      <td>Lynnett Swin</td>\n",
       "      <td>Female</td>\n",
       "      <td>1996-12-29</td>\n",
       "      <td>lswin4r@icq.com</td>\n",
       "      <td>Carlton</td>\n",
       "      <td>0 Bellgrove Court</td>\n",
       "      <td>DL8</td>\n",
       "      <td>4.412476e+11</td>\n",
       "      <td>University of Greenwich</td>\n",
       "      <td>2:2</td>\n",
       "      <td>2019-01-16</td>\n",
       "      <td>Gismo Tilling</td>\n",
       "    </tr>\n",
       "  </tbody>\n",
       "</table>\n",
       "</div>"
      ],
      "text/plain": [
       "            name_x       name_clean    id           name_y  gender  \\\n",
       "0  Quintus Penella  quintus penella  1769  Quintus Penella    Male   \n",
       "1     Simon Murrey     simon murrey  1696     Simon Murrey    Male   \n",
       "2      Gustaf Lude      gustaf lude  1663      Gustaf Lude    Male   \n",
       "3    Yolanda Fosse    yolanda fosse  1573    Yolanda Fosse  Female   \n",
       "4     Lynnett Swin     lynnett swin  1661     Lynnett Swin  Female   \n",
       "\n",
       "          dob                   email        city                 address  \\\n",
       "0  1992-11-11   qpenella7r@tripod.com  Whitchurch        8132 Grover Hill   \n",
       "1  1999-04-01        smurrey5q@pen.io      London  516 American Ash Drive   \n",
       "2  1991-04-25     glude4t@harvard.edu     Newtown       392 Florence Pass   \n",
       "3  1999-11-15  yfosse2b@over-blog.com      London     9683 Jenifer Street   \n",
       "4  1996-12-29         lswin4r@icq.com     Carlton       0 Bellgrove Court   \n",
       "\n",
       "  postcode  phone_number                       uni degree invited_date  \\\n",
       "0     BS14  4.414412e+11                       NaN    NaN   2019-01-15   \n",
       "1     WC2H           NaN  University of Portsmouth    2:1   2019-01-16   \n",
       "2     RG20           NaN    University of Bradford      3   2019-01-16   \n",
       "3     EC1V  4.453733e+11       University of Wales      1   2019-01-16   \n",
       "4      DL8  4.412476e+11   University of Greenwich    2:2   2019-01-16   \n",
       "\n",
       "        invited_by  \n",
       "0  Bruno Bellbrook  \n",
       "1    Rupert Ripple  \n",
       "2    Rupert Ripple  \n",
       "3   Bruno Belbrook  \n",
       "4    Gismo Tilling  "
      ]
     },
     "execution_count": 129,
     "metadata": {},
     "output_type": "execute_result"
    }
   ],
   "source": [
    "merged.head()"
   ]
  },
  {
   "cell_type": "code",
   "execution_count": 130,
   "id": "03b94a63-02c9-4d46-b2da-e5ecd9ec7e2d",
   "metadata": {},
   "outputs": [
    {
     "data": {
      "text/plain": [
       "name_x           0\n",
       "name_clean       0\n",
       "id               0\n",
       "name_y           0\n",
       "gender           8\n",
       "dob             27\n",
       "email           17\n",
       "city             4\n",
       "address          4\n",
       "postcode         4\n",
       "phone_number    33\n",
       "uni             13\n",
       "degree          13\n",
       "invited_date    39\n",
       "invited_by       0\n",
       "dtype: int64"
      ]
     },
     "execution_count": 130,
     "metadata": {},
     "output_type": "execute_result"
    }
   ],
   "source": [
    "merged.isnull().sum()"
   ]
  },
  {
   "cell_type": "code",
   "execution_count": 131,
   "id": "79e614b4-68e4-4aae-b08f-b86d8ab81161",
   "metadata": {},
   "outputs": [
    {
     "data": {
      "text/plain": [
       "name_x           object\n",
       "name_clean       object\n",
       "id                int64\n",
       "name_y           object\n",
       "gender           object\n",
       "dob              object\n",
       "email            object\n",
       "city             object\n",
       "address          object\n",
       "postcode         object\n",
       "phone_number    float64\n",
       "uni              object\n",
       "degree           object\n",
       "invited_date     object\n",
       "invited_by       object\n",
       "dtype: object"
      ]
     },
     "execution_count": 131,
     "metadata": {},
     "output_type": "execute_result"
    }
   ],
   "source": [
    "merged.dtypes"
   ]
  },
  {
   "cell_type": "code",
   "execution_count": 132,
   "id": "3175bb85-2b1f-44d9-9fa1-4ffae5de440b",
   "metadata": {},
   "outputs": [],
   "source": [
    "# Suppose 'id' is the unique identifier\n",
    "merged_ids = merged['id'].unique()"
   ]
  },
  {
   "cell_type": "markdown",
   "id": "786e644d-1746-434f-b74e-d0ac371388d3",
   "metadata": {},
   "source": [
    "### Critical info"
   ]
  },
  {
   "cell_type": "code",
   "execution_count": 133,
   "id": "2c315003-bdce-413c-a0cf-fe99602b7a56",
   "metadata": {},
   "outputs": [],
   "source": [
    "required_cols = ['dob', 'email', 'city', 'address', 'postcode', 'phone_number']"
   ]
  },
  {
   "cell_type": "code",
   "execution_count": 134,
   "id": "8345af41-316b-4a09-a416-93305b1368e4",
   "metadata": {},
   "outputs": [],
   "source": [
    "# Critical info\n",
    "# Only fill the critical info for applicants present in merged\n",
    "for col in required_cols:\n",
    "    mask = applicants['id'].isin(merged_ids)\n",
    "    if applicants[col].dtype == 'object':\n",
    "        applicants.loc[mask, col] = applicants.loc[mask, col].fillna('Required')\n",
    "        merged[col] = merged[col].fillna('Required')\n",
    "    else:\n",
    "        applicants.loc[mask, col] = applicants.loc[mask, col].fillna(-1)\n",
    "        merged[col] = merged[col].fillna(-1)\n",
    "\n"
   ]
  },
  {
   "cell_type": "markdown",
   "id": "b8958165-d640-45d1-9c27-a3f542106c59",
   "metadata": {},
   "source": [
    "### Not essential: `invited_date`"
   ]
  },
  {
   "cell_type": "code",
   "execution_count": 135,
   "id": "5b10e664-f781-461b-9ff0-8551fd4c53d6",
   "metadata": {},
   "outputs": [],
   "source": [
    "# Invited date: label as 'not essential' \n",
    "mask = applicants['id'].isin(merged_ids)\n",
    "applicants.loc[mask, 'invited_date'] = applicants.loc[mask, 'invited_date'].fillna('Not essential')\n",
    "merged['invited_date'] = merged['invited_date'].fillna('Not essential')"
   ]
  },
  {
   "cell_type": "markdown",
   "id": "6393e1b1-0d75-40cb-8939-499ac9193252",
   "metadata": {},
   "source": [
    "### `gender`, `university`, `degree`"
   ]
  },
  {
   "cell_type": "code",
   "execution_count": 136,
   "id": "1211b554-24ec-4f25-9a85-00bd9e7d07e8",
   "metadata": {},
   "outputs": [
    {
     "name": "stdout",
     "output_type": "stream",
     "text": [
      "Gender categories:\n",
      "['Female' 'Male' nan]\n",
      "\n",
      "Degree categories:\n",
      "['2:1' '1' '3' nan '2:2']\n"
     ]
    }
   ],
   "source": [
    "# Investigate university & gender\n",
    "print(\"Gender categories:\")\n",
    "print(applicants['gender'].unique())\n",
    "\n",
    "#print(\"\\nUniversity categories:\")\n",
    "#print(applicants['uni'].unique())\n",
    "\n",
    "print(\"\\nDegree categories:\")\n",
    "print(applicants['degree'].unique())"
   ]
  },
  {
   "cell_type": "code",
   "execution_count": 137,
   "id": "b4f39fda-ff89-4140-8adf-e51c40aeb7ea",
   "metadata": {},
   "outputs": [],
   "source": [
    "# For gender: missing values -> 'Other/Missing'\n",
    "# For uni & degree: most likely didn't attend -> 'Didn't attend/Missing'\n",
    "for col, fill_value in zip(['gender', 'uni', 'degree'],\n",
    "                           ['Other/Missing', \"Didn't attend/Missing\", \"Didn't attend/Missing\"]):\n",
    "    applicants.loc[mask, col] = applicants.loc[mask, col].fillna(fill_value)\n",
    "    merged[col] = merged[col].fillna(fill_value)\n",
    "\n",
    "\n",
    "# Could just do 'clarify' for both\n"
   ]
  },
  {
   "cell_type": "code",
   "execution_count": 138,
   "id": "dbfcd72e-b1a3-4ca3-a573-f0987ac6a9f8",
   "metadata": {},
   "outputs": [
    {
     "name": "stdout",
     "output_type": "stream",
     "text": [
      "Gender categories:\n",
      "['Male' 'Female' 'Other/Missing']\n",
      "\n",
      "Degree categories:\n",
      "[\"Didn't attend/Missing\" '2:1' '3' '1' '2:2']\n"
     ]
    }
   ],
   "source": [
    "# Check \n",
    "print(\"Gender categories:\")\n",
    "print(merged['gender'].unique())\n",
    "\n",
    "#print(\"\\nUniversity categories:\")\n",
    "#print(merged['uni'].unique())\n",
    "\n",
    "print(\"\\nDegree categories:\")\n",
    "print(merged['degree'].unique())\n"
   ]
  },
  {
   "cell_type": "markdown",
   "id": "48dedd5a-4356-459e-8b44-21a1c4b69bed",
   "metadata": {},
   "source": [
    "### Checks"
   ]
  },
  {
   "cell_type": "code",
   "execution_count": 139,
   "id": "0b9c9261-fad7-4d35-85e2-d92a9658a65d",
   "metadata": {},
   "outputs": [
    {
     "data": {
      "text/plain": [
       "name_x          0\n",
       "name_clean      0\n",
       "id              0\n",
       "name_y          0\n",
       "gender          0\n",
       "dob             0\n",
       "email           0\n",
       "city            0\n",
       "address         0\n",
       "postcode        0\n",
       "phone_number    0\n",
       "uni             0\n",
       "degree          0\n",
       "invited_date    0\n",
       "invited_by      0\n",
       "dtype: int64"
      ]
     },
     "execution_count": 139,
     "metadata": {},
     "output_type": "execute_result"
    }
   ],
   "source": [
    "merged.isnull().sum()"
   ]
  },
  {
   "cell_type": "code",
   "execution_count": 140,
   "id": "c5e2de32-ae70-4eb1-b3ec-20ca82146946",
   "metadata": {},
   "outputs": [
    {
     "data": {
      "text/plain": [
       "name_x           object\n",
       "name_clean       object\n",
       "id                int64\n",
       "name_y           object\n",
       "gender           object\n",
       "dob              object\n",
       "email            object\n",
       "city             object\n",
       "address          object\n",
       "postcode         object\n",
       "phone_number    float64\n",
       "uni              object\n",
       "degree           object\n",
       "invited_date     object\n",
       "invited_by       object\n",
       "dtype: object"
      ]
     },
     "execution_count": 140,
     "metadata": {},
     "output_type": "execute_result"
    }
   ],
   "source": [
    "merged.dtypes"
   ]
  },
  {
   "cell_type": "markdown",
   "id": "e3cff249-eae6-4e52-a4bc-a8261e44ba6a",
   "metadata": {},
   "source": [
    "### Relabel the rest of applicant missing info as 'Not required'"
   ]
  },
  {
   "cell_type": "code",
   "execution_count": 141,
   "id": "45a24cb8-ccb9-4093-a7a5-98db49c02e80",
   "metadata": {},
   "outputs": [
    {
     "data": {
      "text/plain": [
       "id                0\n",
       "name              0\n",
       "gender          125\n",
       "dob             206\n",
       "email           254\n",
       "city             90\n",
       "address          90\n",
       "postcode         90\n",
       "phone_number    349\n",
       "uni             150\n",
       "degree          150\n",
       "invited_date    897\n",
       "invited_by      557\n",
       "name_clean        0\n",
       "dtype: int64"
      ]
     },
     "execution_count": 141,
     "metadata": {},
     "output_type": "execute_result"
    }
   ],
   "source": [
    "applicants.isnull().sum()"
   ]
  },
  {
   "cell_type": "code",
   "execution_count": 142,
   "id": "52b1e631-863e-44e2-86f7-5ecf5339ed7b",
   "metadata": {},
   "outputs": [],
   "source": [
    "for col in applicants.columns:\n",
    "    if applicants[col].dtype == 'object':\n",
    "        applicants[col] = applicants[col].fillna('Not required')\n",
    "    else:\n",
    "        # keep phone number as NaN\n",
    "        pass"
   ]
  },
  {
   "cell_type": "code",
   "execution_count": 143,
   "id": "f14a5e04-3437-456a-af3d-403122bdb02c",
   "metadata": {},
   "outputs": [
    {
     "data": {
      "text/plain": [
       "id                0\n",
       "name              0\n",
       "gender            0\n",
       "dob               0\n",
       "email             0\n",
       "city              0\n",
       "address           0\n",
       "postcode          0\n",
       "phone_number    349\n",
       "uni               0\n",
       "degree            0\n",
       "invited_date      0\n",
       "invited_by        0\n",
       "name_clean        0\n",
       "dtype: int64"
      ]
     },
     "execution_count": 143,
     "metadata": {},
     "output_type": "execute_result"
    }
   ],
   "source": [
    "applicants.isnull().sum()"
   ]
  },
  {
   "cell_type": "code",
   "execution_count": 144,
   "id": "53f3376f-87c5-4b14-bfd8-2c7d37de8bdc",
   "metadata": {},
   "outputs": [
    {
     "data": {
      "text/html": [
       "<div>\n",
       "<style scoped>\n",
       "    .dataframe tbody tr th:only-of-type {\n",
       "        vertical-align: middle;\n",
       "    }\n",
       "\n",
       "    .dataframe tbody tr th {\n",
       "        vertical-align: top;\n",
       "    }\n",
       "\n",
       "    .dataframe thead th {\n",
       "        text-align: right;\n",
       "    }\n",
       "</style>\n",
       "<table border=\"1\" class=\"dataframe\">\n",
       "  <thead>\n",
       "    <tr style=\"text-align: right;\">\n",
       "      <th></th>\n",
       "      <th>id</th>\n",
       "      <th>name</th>\n",
       "      <th>gender</th>\n",
       "      <th>dob</th>\n",
       "      <th>email</th>\n",
       "      <th>city</th>\n",
       "      <th>address</th>\n",
       "      <th>postcode</th>\n",
       "      <th>phone_number</th>\n",
       "      <th>uni</th>\n",
       "      <th>degree</th>\n",
       "      <th>invited_date</th>\n",
       "      <th>invited_by</th>\n",
       "      <th>name_clean</th>\n",
       "    </tr>\n",
       "  </thead>\n",
       "  <tbody>\n",
       "    <tr>\n",
       "      <th>0</th>\n",
       "      <td>1</td>\n",
       "      <td>Esme Trusslove</td>\n",
       "      <td>Female</td>\n",
       "      <td>1994-08-04</td>\n",
       "      <td>etrusslove0@google.es</td>\n",
       "      <td>Swindon</td>\n",
       "      <td>22056 Lerdahl Avenue</td>\n",
       "      <td>SN1</td>\n",
       "      <td>4.429578e+11</td>\n",
       "      <td>Saint George's Hospital Medical School, Univer...</td>\n",
       "      <td>2:1</td>\n",
       "      <td>2019-04-10</td>\n",
       "      <td>Bruno Bellbrook</td>\n",
       "      <td>esme trusslove</td>\n",
       "    </tr>\n",
       "    <tr>\n",
       "      <th>1</th>\n",
       "      <td>2</td>\n",
       "      <td>Matthaeus Audas</td>\n",
       "      <td>Male</td>\n",
       "      <td>Required</td>\n",
       "      <td>maudas1@mapquest.com</td>\n",
       "      <td>Charlton</td>\n",
       "      <td>263 Nelson Trail</td>\n",
       "      <td>OX12</td>\n",
       "      <td>4.495773e+11</td>\n",
       "      <td>Keele University</td>\n",
       "      <td>2:1</td>\n",
       "      <td>2019-04-30</td>\n",
       "      <td>Doris Bellasis</td>\n",
       "      <td>matthaeus audas</td>\n",
       "    </tr>\n",
       "    <tr>\n",
       "      <th>2</th>\n",
       "      <td>3</td>\n",
       "      <td>Cherey Tollfree</td>\n",
       "      <td>Female</td>\n",
       "      <td>1992-12-08</td>\n",
       "      <td>ctollfree2@netvibes.com</td>\n",
       "      <td>Weston</td>\n",
       "      <td>69 Coleman Court</td>\n",
       "      <td>GU32</td>\n",
       "      <td>4.458875e+11</td>\n",
       "      <td>King's College London, University of London</td>\n",
       "      <td>2:1</td>\n",
       "      <td>2019-04-25</td>\n",
       "      <td>Gismo Tilling</td>\n",
       "      <td>cherey tollfree</td>\n",
       "    </tr>\n",
       "    <tr>\n",
       "      <th>3</th>\n",
       "      <td>4</td>\n",
       "      <td>Eryn Speers</td>\n",
       "      <td>Female</td>\n",
       "      <td>Not required</td>\n",
       "      <td>espeers3@shinystat.com</td>\n",
       "      <td>Sutton</td>\n",
       "      <td>0166 Daystar Drive</td>\n",
       "      <td>CT15</td>\n",
       "      <td>4.414879e+11</td>\n",
       "      <td>University of Edinburgh</td>\n",
       "      <td>2:1</td>\n",
       "      <td>Not required</td>\n",
       "      <td>Not required</td>\n",
       "      <td>eryn speers</td>\n",
       "    </tr>\n",
       "    <tr>\n",
       "      <th>4</th>\n",
       "      <td>5</td>\n",
       "      <td>Theadora Berkelay</td>\n",
       "      <td>Female</td>\n",
       "      <td>1995-11-03</td>\n",
       "      <td>tberkelay4@godaddy.com</td>\n",
       "      <td>Upton</td>\n",
       "      <td>6 Mandrake Crossing</td>\n",
       "      <td>WF9</td>\n",
       "      <td>4.484147e+11</td>\n",
       "      <td>University of Leicester</td>\n",
       "      <td>2:1</td>\n",
       "      <td>2019-04-02</td>\n",
       "      <td>Stacey Broad</td>\n",
       "      <td>theadora berkelay</td>\n",
       "    </tr>\n",
       "  </tbody>\n",
       "</table>\n",
       "</div>"
      ],
      "text/plain": [
       "   id               name  gender           dob                    email  \\\n",
       "0   1     Esme Trusslove  Female    1994-08-04    etrusslove0@google.es   \n",
       "1   2    Matthaeus Audas    Male      Required     maudas1@mapquest.com   \n",
       "2   3    Cherey Tollfree  Female    1992-12-08  ctollfree2@netvibes.com   \n",
       "3   4        Eryn Speers  Female  Not required   espeers3@shinystat.com   \n",
       "4   5  Theadora Berkelay  Female    1995-11-03   tberkelay4@godaddy.com   \n",
       "\n",
       "       city               address postcode  phone_number  \\\n",
       "0   Swindon  22056 Lerdahl Avenue      SN1  4.429578e+11   \n",
       "1  Charlton      263 Nelson Trail     OX12  4.495773e+11   \n",
       "2    Weston      69 Coleman Court     GU32  4.458875e+11   \n",
       "3    Sutton    0166 Daystar Drive     CT15  4.414879e+11   \n",
       "4     Upton   6 Mandrake Crossing      WF9  4.484147e+11   \n",
       "\n",
       "                                                 uni degree  invited_date  \\\n",
       "0  Saint George's Hospital Medical School, Univer...    2:1    2019-04-10   \n",
       "1                                   Keele University    2:1    2019-04-30   \n",
       "2        King's College London, University of London    2:1    2019-04-25   \n",
       "3                            University of Edinburgh    2:1  Not required   \n",
       "4                            University of Leicester    2:1    2019-04-02   \n",
       "\n",
       "        invited_by         name_clean  \n",
       "0  Bruno Bellbrook     esme trusslove  \n",
       "1   Doris Bellasis    matthaeus audas  \n",
       "2    Gismo Tilling    cherey tollfree  \n",
       "3     Not required        eryn speers  \n",
       "4     Stacey Broad  theadora berkelay  "
      ]
     },
     "execution_count": 144,
     "metadata": {},
     "output_type": "execute_result"
    }
   ],
   "source": [
    "applicants.head()"
   ]
  },
  {
   "cell_type": "code",
   "execution_count": null,
   "id": "542b04e3-a909-4740-8462-e8013de77b26",
   "metadata": {},
   "outputs": [],
   "source": []
  }
 ],
 "metadata": {
  "kernelspec": {
   "display_name": "Python 3 (ipykernel)",
   "language": "python",
   "name": "python3"
  },
  "language_info": {
   "codemirror_mode": {
    "name": "ipython",
    "version": 3
   },
   "file_extension": ".py",
   "mimetype": "text/x-python",
   "name": "python",
   "nbconvert_exporter": "python",
   "pygments_lexer": "ipython3",
   "version": "3.13.5"
  }
 },
 "nbformat": 4,
 "nbformat_minor": 5
}
