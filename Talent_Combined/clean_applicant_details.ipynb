{
 "cells": [
  {
   "cell_type": "code",
   "execution_count": 242,
   "id": "b4d3166b-b015-4b60-ac76-f95727404176",
   "metadata": {},
   "outputs": [],
   "source": [
    "import boto3\n",
    "import pandas as pd\n",
    "import io"
   ]
  },
  {
   "cell_type": "code",
   "execution_count": 243,
   "id": "c3b01a96-84ed-4e65-98ca-fca6e56b8e76",
   "metadata": {},
   "outputs": [
    {
     "name": "stdout",
     "output_type": "stream",
     "text": [
      "       id               name  gender         dob                        email  \\\n",
      "0       1     Esme Trusslove  Female  04/08/1994        etrusslove0@google.es   \n",
      "1       2    Matthaeus Audas    Male         NaN         maudas1@mapquest.com   \n",
      "2       3    Cherey Tollfree  Female  08/12/1992      ctollfree2@netvibes.com   \n",
      "3       4        Eryn Speers  Female         NaN       espeers3@shinystat.com   \n",
      "4       5  Theadora Berkelay  Female  03/11/1995       tberkelay4@godaddy.com   \n",
      "...   ...                ...     ...         ...                          ...   \n",
      "4686  416    Clyve Gillhespy    Male  15/12/1995    cgillhespybj@buzzfeed.com   \n",
      "4687  417    Vaclav Pietesch    Male  09/11/1994          vpieteschbk@mac.com   \n",
      "4688  418        Kassi Lucio  Female  24/04/1994           kluciobl@exblog.jp   \n",
      "4689  419     Vivianna Letty  Female         NaN       vlettybm@google.com.hk   \n",
      "4690  420      Mercie Groger  Female  10/05/1997  mgrogerbn@timesonline.co.uk   \n",
      "\n",
      "            city               address postcode        phone_number  \\\n",
      "0        Swindon  22056 Lerdahl Avenue      SN1    +44-295-783-0228   \n",
      "1       Charlton      263 Nelson Trail     OX12    +44-957-728-0155   \n",
      "2         Weston      69 Coleman Court     GU32    +44-588-749-6002   \n",
      "3         Sutton    0166 Daystar Drive     CT15    +44 148 787 0613   \n",
      "4          Upton   6 Mandrake Crossing      WF9  +44 (841) 468-3619   \n",
      "...          ...                   ...      ...                 ...   \n",
      "4686  Birmingham        33 Almo Avenue      B40    +44-904-343-2218   \n",
      "4687    Whitwell  6476 Hoffman Terrace     DL10    +44 455 631 6125   \n",
      "4688   Normanton      06 Fulton Center     LE15    +44-834-342-9323   \n",
      "4689   Sheffield      78314 Fisk Plaza       S1    +44-534-758-3140   \n",
      "4690    Charlton        5 Toban Circle     OX12    +44-662-239-4688   \n",
      "\n",
      "                                                    uni degree  invited_date  \\\n",
      "0     Saint George's Hospital Medical School, Univer...    2:1          10.0   \n",
      "1                                      Keele University    2:1          30.0   \n",
      "2           King's College London, University of London    2:1          25.0   \n",
      "3                               University of Edinburgh    2:1           NaN   \n",
      "4                               University of Leicester    2:1           2.0   \n",
      "...                                                 ...    ...           ...   \n",
      "4686                            University of Liverpool    2:1          26.0   \n",
      "4687                        Sheffield Hallam University    2:2          12.0   \n",
      "4688                           University of Buckingham    2:1           3.0   \n",
      "4689                      Leeds Metropolitan University    1st          19.0   \n",
      "4690                             ifs University College    3rd          12.0   \n",
      "\n",
      "           month       invited_by  \n",
      "0     April 2019  Bruno Bellbrook  \n",
      "1     April 2019   Doris Bellasis  \n",
      "2     April 2019    Gismo Tilling  \n",
      "3            NaN              NaN  \n",
      "4     April 2019     Stacey Broad  \n",
      "...          ...              ...  \n",
      "4686   SEPT 2019  Bruno Bellbrook  \n",
      "4687   SEPT 2019     Stacey Broad  \n",
      "4688   SEPT 2019        Fifi Eton  \n",
      "4689   SEPT 2019  Bruno Bellbrook  \n",
      "4690   SEPT 2019    Rupert Ripple  \n",
      "\n",
      "[4691 rows x 14 columns]\n"
     ]
    }
   ],
   "source": [
    "s3 = boto3.client(\"s3\")\n",
    "\n",
    "bucket_name = \"data-504-final-project\"\n",
    "file_key = \"Talent_Combined/combined_applicants_details.csv\"\n",
    "\n",
    "obj = s3.get_object(Bucket= bucket_name, Key=file_key)\n",
    "df = pd.read_csv(obj[\"Body\"])\n",
    "print(df)"
   ]
  },
  {
   "cell_type": "code",
   "execution_count": 244,
   "id": "c21699bc-f151-43f3-9e0c-32d1b91c20c2",
   "metadata": {},
   "outputs": [
    {
     "name": "stdout",
     "output_type": "stream",
     "text": [
      "   id               name  gender         dob                     email  \\\n",
      "0   1     Esme Trusslove  Female  04/08/1994     etrusslove0@google.es   \n",
      "1   2    Matthaeus Audas    Male         NaN      maudas1@mapquest.com   \n",
      "2   3    Cherey Tollfree  Female  08/12/1992   ctollfree2@netvibes.com   \n",
      "3   4        Eryn Speers  Female         NaN    espeers3@shinystat.com   \n",
      "4   5  Theadora Berkelay  Female  03/11/1995    tberkelay4@godaddy.com   \n",
      "5   6      Kassi Pinnock  Female  19/04/1990      kpinnock5@apache.org   \n",
      "6   7     Austina Depper  Female  22/11/1992         adepper6@java.com   \n",
      "7   8        Rivi Epinay  Female  12/02/1992     repinay7@blogspot.com   \n",
      "8   9       Lay Trosdall    Male  05/07/1991  ltrosdall8@imageshack.us   \n",
      "9  10    Barbabra Mandal  Female  15/06/1991   bmandal9@craigslist.org   \n",
      "\n",
      "         city               address postcode        phone_number  \\\n",
      "0     Swindon  22056 Lerdahl Avenue      SN1    +44-295-783-0228   \n",
      "1    Charlton      263 Nelson Trail     OX12    +44-957-728-0155   \n",
      "2      Weston      69 Coleman Court     GU32    +44-588-749-6002   \n",
      "3      Sutton    0166 Daystar Drive     CT15    +44 148 787 0613   \n",
      "4       Upton   6 Mandrake Crossing      WF9  +44 (841) 468-3619   \n",
      "5  Birmingham   27 Monument Terrace      B12  +44 (897) 978-7574   \n",
      "6      Thorpe    379 Mifflin Circle     BD23    +44 918 348 8810   \n",
      "7  Church End    1566 Thierer Point      CB4    +44-674-101-0656   \n",
      "8    West End      63 Maywood Place     DN36    +44-572-951-7038   \n",
      "9  Whitchurch      45 Clemons Court     BS14  +44 (723) 247-1004   \n",
      "\n",
      "                                                 uni degree  invited_date  \\\n",
      "0  Saint George's Hospital Medical School, Univer...    2:1          10.0   \n",
      "1                                   Keele University    2:1          30.0   \n",
      "2        King's College London, University of London    2:1          25.0   \n",
      "3                            University of Edinburgh    2:1           NaN   \n",
      "4                            University of Leicester    2:1           2.0   \n",
      "5                  The American University in London    1st          18.0   \n",
      "6                               University of Oxford    3rd           2.0   \n",
      "7                         Trinity College Carmarthen    1st          17.0   \n",
      "8                                                NaN    NaN          16.0   \n",
      "9                                                NaN    NaN          23.0   \n",
      "\n",
      "        month       invited_by  \n",
      "0  April 2019  Bruno Bellbrook  \n",
      "1  April 2019   Doris Bellasis  \n",
      "2  April 2019    Gismo Tilling  \n",
      "3         NaN              NaN  \n",
      "4  April 2019     Stacey Broad  \n",
      "5  April 2019    Gismo Tilling  \n",
      "6  April 2019     Stacey Broad  \n",
      "7  April 2019        Fifi Eton  \n",
      "8  April 2019  Bruno Bellbrook  \n",
      "9  April 2019    Gismo Tilling  \n"
     ]
    }
   ],
   "source": [
    "print(df.head(10))"
   ]
  },
  {
   "cell_type": "code",
   "execution_count": 245,
   "id": "e61f628f-f44b-40d3-9a6d-1b14c2f05c69",
   "metadata": {},
   "outputs": [
    {
     "name": "stdout",
     "output_type": "stream",
     "text": [
      "       id              name  gender         dob                        email  \\\n",
      "4681  411     Arman Boribal    Male  07/05/1999   aboribalbe@hugedomains.com   \n",
      "4682  412      Rip Jordeson    Male  16/02/1994   rjordesonbf@privacy.gov.au   \n",
      "4683  413   Vernon Bennough    Male  13/05/1996                          NaN   \n",
      "4684  414  Monty Gorriessen    Male  24/03/1995                          NaN   \n",
      "4685  415   Darill Whapples    Male  10/01/1999     dwhapplesbi@hubpages.com   \n",
      "4686  416   Clyve Gillhespy    Male  15/12/1995    cgillhespybj@buzzfeed.com   \n",
      "4687  417   Vaclav Pietesch    Male  09/11/1994          vpieteschbk@mac.com   \n",
      "4688  418       Kassi Lucio  Female  24/04/1994           kluciobl@exblog.jp   \n",
      "4689  419    Vivianna Letty  Female         NaN       vlettybm@google.com.hk   \n",
      "4690  420     Mercie Groger  Female  10/05/1997  mgrogerbn@timesonline.co.uk   \n",
      "\n",
      "            city                  address postcode      phone_number  \\\n",
      "4681      Sutton        018 Annamark Hill      RH5               NaN   \n",
      "4682  Church End        87332 Carey Plaza       N3  +44-146-984-9004   \n",
      "4683     Swindon  6670 Eggendart Junction      SN1  +44 655 174 5869   \n",
      "4684      Weston     92595 Old Shore Road     GU32  +44 681 641 4060   \n",
      "4685   Liverpool           36 Cody Street      L33  +44 412 578 3310   \n",
      "4686  Birmingham           33 Almo Avenue      B40  +44-904-343-2218   \n",
      "4687    Whitwell     6476 Hoffman Terrace     DL10  +44 455 631 6125   \n",
      "4688   Normanton         06 Fulton Center     LE15  +44-834-342-9323   \n",
      "4689   Sheffield         78314 Fisk Plaza       S1  +44-534-758-3140   \n",
      "4690    Charlton           5 Toban Circle     OX12  +44-662-239-4688   \n",
      "\n",
      "                                            uni degree  invited_date  \\\n",
      "4681                 Trinity College Carmarthen    1st           4.0   \n",
      "4682    University of Wales College of Medicine    2:2          25.0   \n",
      "4683                    University of Cambridge    2:1          24.0   \n",
      "4684  International Colleges of Islamic Science    2:1          12.0   \n",
      "4685     Birkbeck College, University of London    1st          19.0   \n",
      "4686                    University of Liverpool    2:1          26.0   \n",
      "4687                Sheffield Hallam University    2:2          12.0   \n",
      "4688                   University of Buckingham    2:1           3.0   \n",
      "4689              Leeds Metropolitan University    1st          19.0   \n",
      "4690                     ifs University College    3rd          12.0   \n",
      "\n",
      "          month        invited_by  \n",
      "4681  SEPT 2019     Rupert Ripple  \n",
      "4682  SEPT 2019     Rupert Ripple  \n",
      "4683  SEPT 2019        Fifi Etton  \n",
      "4684  SEPT 2019        Fifi Etton  \n",
      "4685  SEPT 2019  Sunny Sladefield  \n",
      "4686  SEPT 2019   Bruno Bellbrook  \n",
      "4687  SEPT 2019      Stacey Broad  \n",
      "4688  SEPT 2019         Fifi Eton  \n",
      "4689  SEPT 2019   Bruno Bellbrook  \n",
      "4690  SEPT 2019     Rupert Ripple  \n"
     ]
    }
   ],
   "source": [
    "print(df.tail(10))"
   ]
  },
  {
   "cell_type": "code",
   "execution_count": 246,
   "id": "3dee567c-9a07-457f-92bb-79c433abccae",
   "metadata": {},
   "outputs": [
    {
     "name": "stdout",
     "output_type": "stream",
     "text": [
      "id                int64\n",
      "name             object\n",
      "gender           object\n",
      "dob              object\n",
      "email            object\n",
      "city             object\n",
      "address          object\n",
      "postcode         object\n",
      "phone_number     object\n",
      "uni              object\n",
      "degree           object\n",
      "invited_date    float64\n",
      "month            object\n",
      "invited_by       object\n",
      "dtype: object\n"
     ]
    }
   ],
   "source": [
    "print(df.dtypes)"
   ]
  },
  {
   "cell_type": "code",
   "execution_count": 247,
   "id": "31217acf-c55b-4d88-a794-f62ed923f0a6",
   "metadata": {},
   "outputs": [
    {
     "data": {
      "text/plain": [
       "np.True_"
      ]
     },
     "execution_count": 247,
     "metadata": {},
     "output_type": "execute_result"
    }
   ],
   "source": [
    "df['id'].duplicated().any()"
   ]
  },
  {
   "cell_type": "code",
   "execution_count": 248,
   "id": "12d04f1d-b21d-4fa4-b307-813c967ab7d1",
   "metadata": {},
   "outputs": [
    {
     "data": {
      "text/plain": [
       "np.int64(4229)"
      ]
     },
     "execution_count": 248,
     "metadata": {},
     "output_type": "execute_result"
    }
   ],
   "source": [
    "df['id'].duplicated().sum()"
   ]
  },
  {
   "cell_type": "code",
   "execution_count": 249,
   "id": "36d3a76e-1a25-46e2-aba2-20f8680b9f54",
   "metadata": {},
   "outputs": [
    {
     "data": {
      "text/plain": [
       "np.False_"
      ]
     },
     "execution_count": 249,
     "metadata": {},
     "output_type": "execute_result"
    }
   ],
   "source": [
    "df.duplicated().any()"
   ]
  },
  {
   "cell_type": "code",
   "execution_count": 250,
   "id": "be912f0c-b6b3-4d38-b0af-6bfb159d448e",
   "metadata": {},
   "outputs": [
    {
     "data": {
      "text/html": [
       "<div>\n",
       "<style scoped>\n",
       "    .dataframe tbody tr th:only-of-type {\n",
       "        vertical-align: middle;\n",
       "    }\n",
       "\n",
       "    .dataframe tbody tr th {\n",
       "        vertical-align: top;\n",
       "    }\n",
       "\n",
       "    .dataframe thead th {\n",
       "        text-align: right;\n",
       "    }\n",
       "</style>\n",
       "<table border=\"1\" class=\"dataframe\">\n",
       "  <thead>\n",
       "    <tr style=\"text-align: right;\">\n",
       "      <th></th>\n",
       "      <th>id</th>\n",
       "      <th>name</th>\n",
       "      <th>gender</th>\n",
       "      <th>dob</th>\n",
       "      <th>email</th>\n",
       "      <th>city</th>\n",
       "      <th>address</th>\n",
       "      <th>postcode</th>\n",
       "      <th>phone_number</th>\n",
       "      <th>uni</th>\n",
       "      <th>degree</th>\n",
       "      <th>invited_date</th>\n",
       "      <th>month</th>\n",
       "      <th>invited_by</th>\n",
       "    </tr>\n",
       "  </thead>\n",
       "  <tbody>\n",
       "    <tr>\n",
       "      <th>0</th>\n",
       "      <td>1</td>\n",
       "      <td>Esme Trusslove</td>\n",
       "      <td>Female</td>\n",
       "      <td>04/08/1994</td>\n",
       "      <td>etrusslove0@google.es</td>\n",
       "      <td>Swindon</td>\n",
       "      <td>22056 Lerdahl Avenue</td>\n",
       "      <td>SN1</td>\n",
       "      <td>+44-295-783-0228</td>\n",
       "      <td>Saint George's Hospital Medical School, Univer...</td>\n",
       "      <td>2:1</td>\n",
       "      <td>10.0</td>\n",
       "      <td>April 2019</td>\n",
       "      <td>Bruno Bellbrook</td>\n",
       "    </tr>\n",
       "    <tr>\n",
       "      <th>1</th>\n",
       "      <td>2</td>\n",
       "      <td>Matthaeus Audas</td>\n",
       "      <td>Male</td>\n",
       "      <td>NaN</td>\n",
       "      <td>maudas1@mapquest.com</td>\n",
       "      <td>Charlton</td>\n",
       "      <td>263 Nelson Trail</td>\n",
       "      <td>OX12</td>\n",
       "      <td>+44-957-728-0155</td>\n",
       "      <td>Keele University</td>\n",
       "      <td>2:1</td>\n",
       "      <td>30.0</td>\n",
       "      <td>April 2019</td>\n",
       "      <td>Doris Bellasis</td>\n",
       "    </tr>\n",
       "    <tr>\n",
       "      <th>2</th>\n",
       "      <td>3</td>\n",
       "      <td>Cherey Tollfree</td>\n",
       "      <td>Female</td>\n",
       "      <td>08/12/1992</td>\n",
       "      <td>ctollfree2@netvibes.com</td>\n",
       "      <td>Weston</td>\n",
       "      <td>69 Coleman Court</td>\n",
       "      <td>GU32</td>\n",
       "      <td>+44-588-749-6002</td>\n",
       "      <td>King's College London, University of London</td>\n",
       "      <td>2:1</td>\n",
       "      <td>25.0</td>\n",
       "      <td>April 2019</td>\n",
       "      <td>Gismo Tilling</td>\n",
       "    </tr>\n",
       "    <tr>\n",
       "      <th>3</th>\n",
       "      <td>4</td>\n",
       "      <td>Eryn Speers</td>\n",
       "      <td>Female</td>\n",
       "      <td>NaN</td>\n",
       "      <td>espeers3@shinystat.com</td>\n",
       "      <td>Sutton</td>\n",
       "      <td>0166 Daystar Drive</td>\n",
       "      <td>CT15</td>\n",
       "      <td>+44 148 787 0613</td>\n",
       "      <td>University of Edinburgh</td>\n",
       "      <td>2:1</td>\n",
       "      <td>NaN</td>\n",
       "      <td>NaN</td>\n",
       "      <td>NaN</td>\n",
       "    </tr>\n",
       "    <tr>\n",
       "      <th>4</th>\n",
       "      <td>5</td>\n",
       "      <td>Theadora Berkelay</td>\n",
       "      <td>Female</td>\n",
       "      <td>03/11/1995</td>\n",
       "      <td>tberkelay4@godaddy.com</td>\n",
       "      <td>Upton</td>\n",
       "      <td>6 Mandrake Crossing</td>\n",
       "      <td>WF9</td>\n",
       "      <td>+44 (841) 468-3619</td>\n",
       "      <td>University of Leicester</td>\n",
       "      <td>2:1</td>\n",
       "      <td>2.0</td>\n",
       "      <td>April 2019</td>\n",
       "      <td>Stacey Broad</td>\n",
       "    </tr>\n",
       "    <tr>\n",
       "      <th>...</th>\n",
       "      <td>...</td>\n",
       "      <td>...</td>\n",
       "      <td>...</td>\n",
       "      <td>...</td>\n",
       "      <td>...</td>\n",
       "      <td>...</td>\n",
       "      <td>...</td>\n",
       "      <td>...</td>\n",
       "      <td>...</td>\n",
       "      <td>...</td>\n",
       "      <td>...</td>\n",
       "      <td>...</td>\n",
       "      <td>...</td>\n",
       "      <td>...</td>\n",
       "    </tr>\n",
       "    <tr>\n",
       "      <th>4686</th>\n",
       "      <td>416</td>\n",
       "      <td>Clyve Gillhespy</td>\n",
       "      <td>Male</td>\n",
       "      <td>15/12/1995</td>\n",
       "      <td>cgillhespybj@buzzfeed.com</td>\n",
       "      <td>Birmingham</td>\n",
       "      <td>33 Almo Avenue</td>\n",
       "      <td>B40</td>\n",
       "      <td>+44-904-343-2218</td>\n",
       "      <td>University of Liverpool</td>\n",
       "      <td>2:1</td>\n",
       "      <td>26.0</td>\n",
       "      <td>SEPT 2019</td>\n",
       "      <td>Bruno Bellbrook</td>\n",
       "    </tr>\n",
       "    <tr>\n",
       "      <th>4687</th>\n",
       "      <td>417</td>\n",
       "      <td>Vaclav Pietesch</td>\n",
       "      <td>Male</td>\n",
       "      <td>09/11/1994</td>\n",
       "      <td>vpieteschbk@mac.com</td>\n",
       "      <td>Whitwell</td>\n",
       "      <td>6476 Hoffman Terrace</td>\n",
       "      <td>DL10</td>\n",
       "      <td>+44 455 631 6125</td>\n",
       "      <td>Sheffield Hallam University</td>\n",
       "      <td>2:2</td>\n",
       "      <td>12.0</td>\n",
       "      <td>SEPT 2019</td>\n",
       "      <td>Stacey Broad</td>\n",
       "    </tr>\n",
       "    <tr>\n",
       "      <th>4688</th>\n",
       "      <td>418</td>\n",
       "      <td>Kassi Lucio</td>\n",
       "      <td>Female</td>\n",
       "      <td>24/04/1994</td>\n",
       "      <td>kluciobl@exblog.jp</td>\n",
       "      <td>Normanton</td>\n",
       "      <td>06 Fulton Center</td>\n",
       "      <td>LE15</td>\n",
       "      <td>+44-834-342-9323</td>\n",
       "      <td>University of Buckingham</td>\n",
       "      <td>2:1</td>\n",
       "      <td>3.0</td>\n",
       "      <td>SEPT 2019</td>\n",
       "      <td>Fifi Eton</td>\n",
       "    </tr>\n",
       "    <tr>\n",
       "      <th>4689</th>\n",
       "      <td>419</td>\n",
       "      <td>Vivianna Letty</td>\n",
       "      <td>Female</td>\n",
       "      <td>NaN</td>\n",
       "      <td>vlettybm@google.com.hk</td>\n",
       "      <td>Sheffield</td>\n",
       "      <td>78314 Fisk Plaza</td>\n",
       "      <td>S1</td>\n",
       "      <td>+44-534-758-3140</td>\n",
       "      <td>Leeds Metropolitan University</td>\n",
       "      <td>1st</td>\n",
       "      <td>19.0</td>\n",
       "      <td>SEPT 2019</td>\n",
       "      <td>Bruno Bellbrook</td>\n",
       "    </tr>\n",
       "    <tr>\n",
       "      <th>4690</th>\n",
       "      <td>420</td>\n",
       "      <td>Mercie Groger</td>\n",
       "      <td>Female</td>\n",
       "      <td>10/05/1997</td>\n",
       "      <td>mgrogerbn@timesonline.co.uk</td>\n",
       "      <td>Charlton</td>\n",
       "      <td>5 Toban Circle</td>\n",
       "      <td>OX12</td>\n",
       "      <td>+44-662-239-4688</td>\n",
       "      <td>ifs University College</td>\n",
       "      <td>3rd</td>\n",
       "      <td>12.0</td>\n",
       "      <td>SEPT 2019</td>\n",
       "      <td>Rupert Ripple</td>\n",
       "    </tr>\n",
       "  </tbody>\n",
       "</table>\n",
       "<p>4682 rows × 14 columns</p>\n",
       "</div>"
      ],
      "text/plain": [
       "       id               name  gender         dob                        email  \\\n",
       "0       1     Esme Trusslove  Female  04/08/1994        etrusslove0@google.es   \n",
       "1       2    Matthaeus Audas    Male         NaN         maudas1@mapquest.com   \n",
       "2       3    Cherey Tollfree  Female  08/12/1992      ctollfree2@netvibes.com   \n",
       "3       4        Eryn Speers  Female         NaN       espeers3@shinystat.com   \n",
       "4       5  Theadora Berkelay  Female  03/11/1995       tberkelay4@godaddy.com   \n",
       "...   ...                ...     ...         ...                          ...   \n",
       "4686  416    Clyve Gillhespy    Male  15/12/1995    cgillhespybj@buzzfeed.com   \n",
       "4687  417    Vaclav Pietesch    Male  09/11/1994          vpieteschbk@mac.com   \n",
       "4688  418        Kassi Lucio  Female  24/04/1994           kluciobl@exblog.jp   \n",
       "4689  419     Vivianna Letty  Female         NaN       vlettybm@google.com.hk   \n",
       "4690  420      Mercie Groger  Female  10/05/1997  mgrogerbn@timesonline.co.uk   \n",
       "\n",
       "            city               address postcode        phone_number  \\\n",
       "0        Swindon  22056 Lerdahl Avenue      SN1    +44-295-783-0228   \n",
       "1       Charlton      263 Nelson Trail     OX12    +44-957-728-0155   \n",
       "2         Weston      69 Coleman Court     GU32    +44-588-749-6002   \n",
       "3         Sutton    0166 Daystar Drive     CT15    +44 148 787 0613   \n",
       "4          Upton   6 Mandrake Crossing      WF9  +44 (841) 468-3619   \n",
       "...          ...                   ...      ...                 ...   \n",
       "4686  Birmingham        33 Almo Avenue      B40    +44-904-343-2218   \n",
       "4687    Whitwell  6476 Hoffman Terrace     DL10    +44 455 631 6125   \n",
       "4688   Normanton      06 Fulton Center     LE15    +44-834-342-9323   \n",
       "4689   Sheffield      78314 Fisk Plaza       S1    +44-534-758-3140   \n",
       "4690    Charlton        5 Toban Circle     OX12    +44-662-239-4688   \n",
       "\n",
       "                                                    uni degree  invited_date  \\\n",
       "0     Saint George's Hospital Medical School, Univer...    2:1          10.0   \n",
       "1                                      Keele University    2:1          30.0   \n",
       "2           King's College London, University of London    2:1          25.0   \n",
       "3                               University of Edinburgh    2:1           NaN   \n",
       "4                               University of Leicester    2:1           2.0   \n",
       "...                                                 ...    ...           ...   \n",
       "4686                            University of Liverpool    2:1          26.0   \n",
       "4687                        Sheffield Hallam University    2:2          12.0   \n",
       "4688                           University of Buckingham    2:1           3.0   \n",
       "4689                      Leeds Metropolitan University    1st          19.0   \n",
       "4690                             ifs University College    3rd          12.0   \n",
       "\n",
       "           month       invited_by  \n",
       "0     April 2019  Bruno Bellbrook  \n",
       "1     April 2019   Doris Bellasis  \n",
       "2     April 2019    Gismo Tilling  \n",
       "3            NaN              NaN  \n",
       "4     April 2019     Stacey Broad  \n",
       "...          ...              ...  \n",
       "4686   SEPT 2019  Bruno Bellbrook  \n",
       "4687   SEPT 2019     Stacey Broad  \n",
       "4688   SEPT 2019        Fifi Eton  \n",
       "4689   SEPT 2019  Bruno Bellbrook  \n",
       "4690   SEPT 2019    Rupert Ripple  \n",
       "\n",
       "[4682 rows x 14 columns]"
      ]
     },
     "execution_count": 250,
     "metadata": {},
     "output_type": "execute_result"
    }
   ],
   "source": [
    "df[df['id'].duplicated(keep=False)]"
   ]
  },
  {
   "cell_type": "code",
   "execution_count": 251,
   "id": "6177553e-609b-42c8-acfa-3d593c75f2a7",
   "metadata": {},
   "outputs": [
    {
     "name": "stdout",
     "output_type": "stream",
     "text": [
      "IDs with >1 row: 453\n"
     ]
    }
   ],
   "source": [
    "# how many unique ids appear more than once\n",
    "counts = df.groupby('id').size().rename('rows_per_id')\n",
    "print(\"IDs with >1 row:\", (counts > 1).sum())"
   ]
  },
  {
   "cell_type": "code",
   "execution_count": 252,
   "id": "65e1831e-3522-4ec5-aab8-488f9aa1858c",
   "metadata": {},
   "outputs": [],
   "source": [
    "df['id'] = range(1, len(df) + 1)"
   ]
  },
  {
   "cell_type": "code",
   "execution_count": 253,
   "id": "b1531cb4-a58d-44b0-8595-7ee17dd2adea",
   "metadata": {},
   "outputs": [
    {
     "name": "stdout",
     "output_type": "stream",
     "text": [
      "Index(['id', 'name', 'gender', 'dob', 'email', 'city', 'address', 'postcode',\n",
      "       'phone_number', 'uni', 'degree', 'invited_date', 'month', 'invited_by'],\n",
      "      dtype='object')\n"
     ]
    }
   ],
   "source": [
    "print(df.columns)"
   ]
  },
  {
   "cell_type": "code",
   "execution_count": 254,
   "id": "e81311d1-9138-4b93-9757-e127cc12a47a",
   "metadata": {},
   "outputs": [],
   "source": [
    "# name format\n",
    "df['name'] = df['name'].str.title()"
   ]
  },
  {
   "cell_type": "code",
   "execution_count": 255,
   "id": "b8ceee40-dc94-4fc4-aa5b-6c01c4cf4ac5",
   "metadata": {},
   "outputs": [
    {
     "name": "stdout",
     "output_type": "stream",
     "text": [
      "0       Esme Trusslove\n",
      "1      Matthaeus Audas\n",
      "2      Cherey Tollfree\n",
      "3          Eryn Speers\n",
      "4    Theadora Berkelay\n",
      "Name: name, dtype: object\n"
     ]
    }
   ],
   "source": [
    "print((df['name']).head(5))"
   ]
  },
  {
   "cell_type": "code",
   "execution_count": 256,
   "id": "e86164fb-4a39-4270-a083-d9fa0da5c0ad",
   "metadata": {},
   "outputs": [],
   "source": [
    "# dob format\n",
    "df['dob'] = pd.to_datetime(df['dob'], errors='coerce', dayfirst=True)"
   ]
  },
  {
   "cell_type": "code",
   "execution_count": 257,
   "id": "49d65f68-c5b3-41d7-badc-4a5c47f148bc",
   "metadata": {},
   "outputs": [
    {
     "name": "stdout",
     "output_type": "stream",
     "text": [
      "0      1994-08-04\n",
      "1             NaT\n",
      "2      1992-12-08\n",
      "3             NaT\n",
      "4      1995-11-03\n",
      "          ...    \n",
      "4686   1995-12-15\n",
      "4687   1994-11-09\n",
      "4688   1994-04-24\n",
      "4689          NaT\n",
      "4690   1997-05-10\n",
      "Name: dob, Length: 4691, dtype: datetime64[ns]\n"
     ]
    }
   ],
   "source": [
    "print(df['dob'])"
   ]
  },
  {
   "cell_type": "code",
   "execution_count": 258,
   "id": "7a16d86a-057b-4bb8-af90-aa5209530315",
   "metadata": {},
   "outputs": [],
   "source": [
    "# phone number format\n",
    "df['phone_number'] = (\n",
    "    df['phone_number']\n",
    "      .str.replace(r\"[ \\-\\(\\)]\", \"\", regex=True)  # remove unwanted chars\n",
    "      .str.replace(r\"^\\+?44\", \"+44\", regex=True) # normalize prefix to +44\n",
    ")"
   ]
  },
  {
   "cell_type": "code",
   "execution_count": 259,
   "id": "2c9dd6a8-8dc0-400c-8caf-6a1e56d2473e",
   "metadata": {},
   "outputs": [
    {
     "name": "stdout",
     "output_type": "stream",
     "text": [
      "0     +442957830228\n",
      "1     +449577280155\n",
      "2     +445887496002\n",
      "3     +441487870613\n",
      "4     +448414683619\n",
      "5     +448979787574\n",
      "6     +449183488810\n",
      "7     +446741010656\n",
      "8     +445729517038\n",
      "9     +447232471004\n",
      "10    +442314869365\n",
      "11              NaN\n",
      "12    +445498657923\n",
      "13    +448479792004\n",
      "14    +444868433503\n",
      "15    +448139571832\n",
      "16    +445029375738\n",
      "17    +442203184847\n",
      "18    +446305506247\n",
      "19    +447902161380\n",
      "Name: phone_number, dtype: object\n"
     ]
    }
   ],
   "source": [
    "print((df['phone_number']).head(20))"
   ]
  },
  {
   "cell_type": "code",
   "execution_count": 260,
   "id": "d2d581cf-275e-458a-b806-98f98f382e5b",
   "metadata": {},
   "outputs": [],
   "source": [
    "# format degree\n",
    "mapping = {\n",
    "    '1st': '1:1',\n",
    "    '3rd': '3:0'\n",
    "}\n",
    "\n",
    "# standardize degree column\n",
    "df['degree'] = df['degree'].str.strip().replace(mapping)"
   ]
  },
  {
   "cell_type": "code",
   "execution_count": 261,
   "id": "0f09578a-3272-49f2-b97e-6056a1d3f8ca",
   "metadata": {},
   "outputs": [
    {
     "name": "stdout",
     "output_type": "stream",
     "text": [
      "0    2:1\n",
      "1    2:1\n",
      "2    2:1\n",
      "3    2:1\n",
      "4    2:1\n",
      "5    1:1\n",
      "6    3:0\n",
      "7    1:1\n",
      "8    NaN\n",
      "9    NaN\n",
      "Name: degree, dtype: object\n"
     ]
    }
   ],
   "source": [
    "print((df['degree']).head(10))"
   ]
  },
  {
   "cell_type": "code",
   "execution_count": 262,
   "id": "f7ac270b-7a16-4769-8abd-c2c349098127",
   "metadata": {},
   "outputs": [],
   "source": [
    "# Create a mask, find rows that are not nan\n",
    "valid_mask = df['invited_date'].notna() & df['month'].notna()\n",
    "\n",
    "# Conversion only to valid rows\n",
    "df['invited_date'] = df.apply(\n",
    "    lambda row: pd.to_datetime(\n",
    "        f\"{int(row['invited_date'])} {row['month']}\", \n",
    "        format='%d %B %Y',\n",
    "        errors='coerce'\n",
    "    ) if pd.notna(row['invited_date']) and pd.notna(row['month']) else pd.NaT,\n",
    "    axis=1\n",
    ")"
   ]
  },
  {
   "cell_type": "code",
   "execution_count": 263,
   "id": "ef7a9b86-84ee-4d97-b36c-640434b3ff03",
   "metadata": {},
   "outputs": [],
   "source": [
    "df = df.drop(columns=['month'])"
   ]
  },
  {
   "cell_type": "code",
   "execution_count": 264,
   "id": "c71b635c-011e-43a0-9e2f-28eb8e6d8b83",
   "metadata": {},
   "outputs": [
    {
     "name": "stdout",
     "output_type": "stream",
     "text": [
      "   id               name  gender        dob                     email  \\\n",
      "0   1     Esme Trusslove  Female 1994-08-04     etrusslove0@google.es   \n",
      "1   2    Matthaeus Audas    Male        NaT      maudas1@mapquest.com   \n",
      "2   3    Cherey Tollfree  Female 1992-12-08   ctollfree2@netvibes.com   \n",
      "3   4        Eryn Speers  Female        NaT    espeers3@shinystat.com   \n",
      "4   5  Theadora Berkelay  Female 1995-11-03    tberkelay4@godaddy.com   \n",
      "5   6      Kassi Pinnock  Female 1990-04-19      kpinnock5@apache.org   \n",
      "6   7     Austina Depper  Female 1992-11-22         adepper6@java.com   \n",
      "7   8        Rivi Epinay  Female 1992-02-12     repinay7@blogspot.com   \n",
      "8   9       Lay Trosdall    Male 1991-07-05  ltrosdall8@imageshack.us   \n",
      "9  10    Barbabra Mandal  Female 1991-06-15   bmandal9@craigslist.org   \n",
      "\n",
      "         city               address postcode   phone_number  \\\n",
      "0     Swindon  22056 Lerdahl Avenue      SN1  +442957830228   \n",
      "1    Charlton      263 Nelson Trail     OX12  +449577280155   \n",
      "2      Weston      69 Coleman Court     GU32  +445887496002   \n",
      "3      Sutton    0166 Daystar Drive     CT15  +441487870613   \n",
      "4       Upton   6 Mandrake Crossing      WF9  +448414683619   \n",
      "5  Birmingham   27 Monument Terrace      B12  +448979787574   \n",
      "6      Thorpe    379 Mifflin Circle     BD23  +449183488810   \n",
      "7  Church End    1566 Thierer Point      CB4  +446741010656   \n",
      "8    West End      63 Maywood Place     DN36  +445729517038   \n",
      "9  Whitchurch      45 Clemons Court     BS14  +447232471004   \n",
      "\n",
      "                                                 uni degree invited_date  \\\n",
      "0  Saint George's Hospital Medical School, Univer...    2:1   2019-04-10   \n",
      "1                                   Keele University    2:1   2019-04-30   \n",
      "2        King's College London, University of London    2:1   2019-04-25   \n",
      "3                            University of Edinburgh    2:1          NaT   \n",
      "4                            University of Leicester    2:1   2019-04-02   \n",
      "5                  The American University in London    1:1   2019-04-18   \n",
      "6                               University of Oxford    3:0   2019-04-02   \n",
      "7                         Trinity College Carmarthen    1:1   2019-04-17   \n",
      "8                                                NaN    NaN   2019-04-16   \n",
      "9                                                NaN    NaN   2019-04-23   \n",
      "\n",
      "        invited_by  \n",
      "0  Bruno Bellbrook  \n",
      "1   Doris Bellasis  \n",
      "2    Gismo Tilling  \n",
      "3              NaN  \n",
      "4     Stacey Broad  \n",
      "5    Gismo Tilling  \n",
      "6     Stacey Broad  \n",
      "7        Fifi Eton  \n",
      "8  Bruno Bellbrook  \n",
      "9    Gismo Tilling  \n",
      "id                       int64\n",
      "name                    object\n",
      "gender                  object\n",
      "dob             datetime64[ns]\n",
      "email                   object\n",
      "city                    object\n",
      "address                 object\n",
      "postcode                object\n",
      "phone_number            object\n",
      "uni                     object\n",
      "degree                  object\n",
      "invited_date    datetime64[ns]\n",
      "invited_by              object\n",
      "dtype: object\n"
     ]
    }
   ],
   "source": [
    "print(df.head(10))\n",
    "print(df.dtypes)"
   ]
  },
  {
   "cell_type": "code",
   "execution_count": 265,
   "id": "fcf328f6-9a32-408a-875a-b9b3d4f8c472",
   "metadata": {},
   "outputs": [
    {
     "name": "stdout",
     "output_type": "stream",
     "text": [
      "0   2019-04-10\n",
      "1   2019-04-30\n",
      "2   2019-04-25\n",
      "3          NaT\n",
      "4   2019-04-02\n",
      "5   2019-04-18\n",
      "6   2019-04-02\n",
      "7   2019-04-17\n",
      "8   2019-04-16\n",
      "9   2019-04-23\n",
      "Name: invited_date, dtype: datetime64[ns]\n"
     ]
    }
   ],
   "source": [
    "print((df['invited_date']).head(10))"
   ]
  }
 ],
 "metadata": {
  "kernelspec": {
   "display_name": "Python 3 (ipykernel)",
   "language": "python",
   "name": "python3"
  },
  "language_info": {
   "codemirror_mode": {
    "name": "ipython",
    "version": 3
   },
   "file_extension": ".py",
   "mimetype": "text/x-python",
   "name": "python",
   "nbconvert_exporter": "python",
   "pygments_lexer": "ipython3",
   "version": "3.13.5"
  }
 },
 "nbformat": 4,
 "nbformat_minor": 5
}
